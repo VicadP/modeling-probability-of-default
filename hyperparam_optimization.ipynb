{
 "cells": [
  {
   "cell_type": "code",
   "execution_count": 1,
   "id": "a05c167b",
   "metadata": {},
   "outputs": [],
   "source": [
    "from config import *\n",
    "from utils import convert_dtypes\n",
    "import pandas as pd\n",
    "import numpy as np\n",
    "import matplotlib.pyplot as plt\n",
    "import warnings\n",
    "from plotly.io import show\n",
    "import optuna\n",
    "\n",
    "from sklearn.metrics import roc_auc_score\n",
    "from sklearn.model_selection import StratifiedKFold, learning_curve, validation_curve\n",
    "from lightgbm import LGBMClassifier\n",
    "\n",
    "warnings.filterwarnings(action='ignore')\n",
    "pd.set_option('display.max_columns', None)\n",
    "pd.set_option('display.max_rows', 100)\n",
    "plt.style.use('bmh')"
   ]
  },
  {
   "cell_type": "code",
   "execution_count": 2,
   "id": "d735f70d",
   "metadata": {},
   "outputs": [],
   "source": [
    "data_for_train = pd.read_csv(cfg.paths.train_sample).pipe(convert_dtypes)[cfg.training.short_list + ['SK_ID_CURR', 'SAMPLE', 'TARGET']]\n",
    "train = data_for_train[data_for_train['SAMPLE'] == 'TRAIN'].drop(columns=['SAMPLE'])\n",
    "oos = data_for_train[data_for_train['SAMPLE'] == 'OOS'].drop(columns=['SAMPLE'])\n",
    "test = pd.read_csv(cfg.paths.test_sample).pipe(convert_dtypes)[cfg.training.short_list + ['SK_ID_CURR']]\n",
    "\n",
    "X_train, y_train = train.drop(columns=['TARGET']), train['TARGET']\n",
    "X_oos, y_oos = oos.drop(columns=['TARGET']), oos['TARGET']\n",
    "\n",
    "del data_for_train, train, oos"
   ]
  },
  {
   "cell_type": "code",
   "execution_count": 3,
   "id": "e56b7f08",
   "metadata": {},
   "outputs": [],
   "source": [
    "cv = StratifiedKFold(n_splits=5, shuffle=True, random_state=cfg.seed)"
   ]
  },
  {
   "cell_type": "code",
   "execution_count": null,
   "id": "f4f64f05",
   "metadata": {},
   "outputs": [],
   "source": [
    "def objective_lgbm(trial: optuna.Trial, X, y, cv):\n",
    "    params = {\n",
    "        'n_estimators': trial.suggest_int('n_estimators', 200, 600),\n",
    "        'num_leaves': trial.suggest_int('num_leaves', 16, 64),\n",
    "        'min_child_samples': trial.suggest_int('min_child_samples', 20, 2000),\n",
    "        'colsample_bytree': trial.suggest_float('colsample_bytree', 0.5, 1.0),\n",
    "        'reg_alpha': trial.suggest_float('reg_alpha', 1e-8, 1, log=True),\n",
    "        'reg_lambda': trial.suggest_float('reg_lambda', 1e-8, 1, log=True),       \n",
    "        'is_unbalance': trial.suggest_categorical('is_unbalance', [True, False])\n",
    "    }\n",
    "    \n",
    "    auc_scores = []\n",
    "    \n",
    "    for train_idx, val_idx in cv.split(X, y):\n",
    "        X_train, X_val = X.iloc[train_idx], X.iloc[val_idx]\n",
    "        y_train, y_val = y.iloc[train_idx], y.iloc[val_idx]\n",
    "        \n",
    "        model = LGBMClassifier(\n",
    "            boosting_type='gbdt', \n",
    "            objective='binary', \n",
    "            learning_rate=0.05,\n",
    "            early_stopping_rounds=30,\n",
    "            verbosity=-1, \n",
    "            importance_type='gain', \n",
    "            random_state=cfg.seed, \n",
    "            **params\n",
    "        )\n",
    "\n",
    "        model.fit(\n",
    "            X_train, y_train,\n",
    "            eval_metric='auc',\n",
    "            eval_set=[(X_val, y_val)]\n",
    "        )\n",
    "        \n",
    "        y_pred_proba = model.predict_proba(X_val)[:, 1]\n",
    "        auc = roc_auc_score(y_val, y_pred_proba)\n",
    "        auc_scores.append(auc)\n",
    "\n",
    "    return np.mean(auc_scores)"
   ]
  },
  {
   "cell_type": "code",
   "execution_count": 21,
   "id": "25c5bd1e",
   "metadata": {},
   "outputs": [
    {
     "name": "stderr",
     "output_type": "stream",
     "text": [
      "[I 2025-08-31 11:39:04,969] A new study created in memory with name: no-name-94583804-41f2-440a-a292-49dd28859fa8\n",
      "[I 2025-08-31 11:39:23,218] Trial 0 finished with value: 0.7853194746682371 and parameters: {'n_estimators': 474, 'num_leaves': 35, 'min_child_samples': 33, 'colsample_bytree': 0.5236692614765841, 'reg_alpha': 0.002363427114810682, 'reg_lambda': 0.007823381659253493, 'is_unbalance': False}. Best is trial 0 with value: 0.7853194746682371.\n",
      "[I 2025-08-31 11:39:28,896] Trial 1 finished with value: 0.697387514456363 and parameters: {'n_estimators': 524, 'num_leaves': 45, 'min_child_samples': 1802, 'colsample_bytree': 0.9124543609847819, 'reg_alpha': 0.04307799802857136, 'reg_lambda': 4.823618243256589e-06, 'is_unbalance': True}. Best is trial 0 with value: 0.7853194746682371.\n",
      "[I 2025-08-31 11:39:34,199] Trial 2 finished with value: 0.6987739072821759 and parameters: {'n_estimators': 239, 'num_leaves': 56, 'min_child_samples': 1827, 'colsample_bytree': 0.7598179248553024, 'reg_alpha': 1.5786730090312933e-06, 'reg_lambda': 2.135638696056347e-05, 'is_unbalance': True}. Best is trial 0 with value: 0.7853194746682371.\n",
      "[I 2025-08-31 11:40:00,642] Trial 3 finished with value: 0.7844816419873606 and parameters: {'n_estimators': 528, 'num_leaves': 59, 'min_child_samples': 640, 'colsample_bytree': 0.8536314913490237, 'reg_alpha': 6.906233076150791e-07, 'reg_lambda': 4.127274468131011e-06, 'is_unbalance': False}. Best is trial 0 with value: 0.7853194746682371.\n",
      "[I 2025-08-31 11:40:06,581] Trial 4 finished with value: 0.6977111483382236 and parameters: {'n_estimators': 426, 'num_leaves': 48, 'min_child_samples': 397, 'colsample_bytree': 0.5395100542347144, 'reg_alpha': 7.669858052506254e-06, 'reg_lambda': 6.607599183373331e-07, 'is_unbalance': True}. Best is trial 0 with value: 0.7853194746682371.\n",
      "[I 2025-08-31 11:40:12,585] Trial 5 finished with value: 0.698951243506414 and parameters: {'n_estimators': 213, 'num_leaves': 56, 'min_child_samples': 1172, 'colsample_bytree': 0.5405498058935629, 'reg_alpha': 7.446387016466183e-06, 'reg_lambda': 3.902392508117064e-07, 'is_unbalance': True}. Best is trial 0 with value: 0.7853194746682371.\n",
      "[I 2025-08-31 11:40:35,941] Trial 6 finished with value: 0.784267911988621 and parameters: {'n_estimators': 475, 'num_leaves': 53, 'min_child_samples': 154, 'colsample_bytree': 0.8107295107236363, 'reg_alpha': 6.036287152317498e-07, 'reg_lambda': 0.0022275699787094633, 'is_unbalance': False}. Best is trial 0 with value: 0.7853194746682371.\n",
      "[I 2025-08-31 11:40:42,051] Trial 7 finished with value: 0.6954065198478114 and parameters: {'n_estimators': 320, 'num_leaves': 38, 'min_child_samples': 253, 'colsample_bytree': 0.8234144382903579, 'reg_alpha': 0.002022253033025659, 'reg_lambda': 1.8656908336432988e-07, 'is_unbalance': True}. Best is trial 0 with value: 0.7853194746682371.\n",
      "[I 2025-08-31 11:40:48,077] Trial 8 finished with value: 0.6947419490167754 and parameters: {'n_estimators': 277, 'num_leaves': 35, 'min_child_samples': 1509, 'colsample_bytree': 0.8911929353279788, 'reg_alpha': 2.3896197854069744e-06, 'reg_lambda': 0.0009193398815201712, 'is_unbalance': True}. Best is trial 0 with value: 0.7853194746682371.\n",
      "[I 2025-08-31 11:40:54,319] Trial 9 finished with value: 0.6967168284189094 and parameters: {'n_estimators': 368, 'num_leaves': 45, 'min_child_samples': 1431, 'colsample_bytree': 0.876693230879082, 'reg_alpha': 0.05663310207992671, 'reg_lambda': 0.0005730341015447975, 'is_unbalance': True}. Best is trial 0 with value: 0.7853194746682371.\n",
      "[I 2025-08-31 11:41:18,574] Trial 10 finished with value: 0.7864606633542485 and parameters: {'n_estimators': 579, 'num_leaves': 19, 'min_child_samples': 807, 'colsample_bytree': 0.6387538944090961, 'reg_alpha': 0.00032525572620042037, 'reg_lambda': 0.44784615216370366, 'is_unbalance': False}. Best is trial 10 with value: 0.7864606633542485.\n",
      "[I 2025-08-31 11:41:43,252] Trial 11 finished with value: 0.7863506049846247 and parameters: {'n_estimators': 575, 'num_leaves': 19, 'min_child_samples': 804, 'colsample_bytree': 0.6548242553705022, 'reg_alpha': 0.00041163133555891977, 'reg_lambda': 0.5800777926025842, 'is_unbalance': False}. Best is trial 10 with value: 0.7864606633542485.\n",
      "[I 2025-08-31 11:42:08,203] Trial 12 finished with value: 0.7864917735370189 and parameters: {'n_estimators': 600, 'num_leaves': 16, 'min_child_samples': 761, 'colsample_bytree': 0.6488975126595178, 'reg_alpha': 2.027042860883721e-08, 'reg_lambda': 0.7856736549575546, 'is_unbalance': False}. Best is trial 12 with value: 0.7864917735370189.\n",
      "[I 2025-08-31 11:42:32,249] Trial 13 finished with value: 0.7865085208372014 and parameters: {'n_estimators': 587, 'num_leaves': 16, 'min_child_samples': 983, 'colsample_bytree': 0.6564686105585593, 'reg_alpha': 1.9378905980211965e-08, 'reg_lambda': 0.942136048727775, 'is_unbalance': False}. Best is trial 13 with value: 0.7865085208372014.\n",
      "[I 2025-08-31 11:42:57,148] Trial 14 finished with value: 0.7862976932592056 and parameters: {'n_estimators': 586, 'num_leaves': 26, 'min_child_samples': 1101, 'colsample_bytree': 0.6534040340015812, 'reg_alpha': 2.1522193572128587e-08, 'reg_lambda': 0.03812573600184286, 'is_unbalance': False}. Best is trial 13 with value: 0.7865085208372014.\n",
      "[I 2025-08-31 11:43:20,118] Trial 15 finished with value: 0.7852022638481051 and parameters: {'n_estimators': 499, 'num_leaves': 27, 'min_child_samples': 530, 'colsample_bytree': 0.9980752950485234, 'reg_alpha': 1.278214066137411e-08, 'reg_lambda': 1.0410465552667491e-08, 'is_unbalance': False}. Best is trial 13 with value: 0.7865085208372014.\n",
      "[I 2025-08-31 11:43:41,969] Trial 16 finished with value: 0.7861903644749314 and parameters: {'n_estimators': 426, 'num_leaves': 25, 'min_child_samples': 938, 'colsample_bytree': 0.6029644855634355, 'reg_alpha': 9.803033512829513e-08, 'reg_lambda': 0.07086874285631489, 'is_unbalance': False}. Best is trial 13 with value: 0.7865085208372014.\n",
      "[I 2025-08-31 11:44:07,063] Trial 17 finished with value: 0.7863022563863067 and parameters: {'n_estimators': 597, 'num_leaves': 16, 'min_child_samples': 1331, 'colsample_bytree': 0.7142470137890143, 'reg_alpha': 9.898012198098821e-08, 'reg_lambda': 0.05185808809156623, 'is_unbalance': False}. Best is trial 13 with value: 0.7865085208372014.\n",
      "[I 2025-08-31 11:44:28,071] Trial 18 finished with value: 0.7858655541904406 and parameters: {'n_estimators': 534, 'num_leaves': 30, 'min_child_samples': 716, 'colsample_bytree': 0.7196200666565686, 'reg_alpha': 0.9175924314378094, 'reg_lambda': 0.7120200705621209, 'is_unbalance': False}. Best is trial 13 with value: 0.7865085208372014.\n",
      "[I 2025-08-31 11:44:44,491] Trial 19 finished with value: 0.7858242336042087 and parameters: {'n_estimators': 367, 'num_leaves': 21, 'min_child_samples': 1010, 'colsample_bytree': 0.6193092748294141, 'reg_alpha': 4.7048263357995894e-05, 'reg_lambda': 0.00017493881798808357, 'is_unbalance': False}. Best is trial 13 with value: 0.7865085208372014.\n",
      "[I 2025-08-31 11:45:05,162] Trial 20 finished with value: 0.7865516324554676 and parameters: {'n_estimators': 546, 'num_leaves': 16, 'min_child_samples': 1609, 'colsample_bytree': 0.5896519191321475, 'reg_alpha': 8.893055507781633e-08, 'reg_lambda': 0.011560259789148377, 'is_unbalance': False}. Best is trial 20 with value: 0.7865516324554676.\n",
      "[I 2025-08-31 11:45:25,612] Trial 21 finished with value: 0.7865003714636751 and parameters: {'n_estimators': 546, 'num_leaves': 17, 'min_child_samples': 1961, 'colsample_bytree': 0.5771702866216372, 'reg_alpha': 8.04119068734001e-08, 'reg_lambda': 0.01158458579575076, 'is_unbalance': False}. Best is trial 20 with value: 0.7865516324554676.\n",
      "[I 2025-08-31 11:45:45,928] Trial 22 finished with value: 0.7861017835999212 and parameters: {'n_estimators': 552, 'num_leaves': 23, 'min_child_samples': 1632, 'colsample_bytree': 0.5845154894885294, 'reg_alpha': 9.691372898481492e-08, 'reg_lambda': 0.014823409394660545, 'is_unbalance': False}. Best is trial 20 with value: 0.7865516324554676.\n",
      "[I 2025-08-31 11:46:07,661] Trial 23 finished with value: 0.7865085928381944 and parameters: {'n_estimators': 486, 'num_leaves': 30, 'min_child_samples': 1995, 'colsample_bytree': 0.5765678185275059, 'reg_alpha': 2.0083167010726788e-07, 'reg_lambda': 0.0046871671383167685, 'is_unbalance': False}. Best is trial 20 with value: 0.7865516324554676.\n",
      "[I 2025-08-31 11:46:29,848] Trial 24 finished with value: 0.7862035745467828 and parameters: {'n_estimators': 487, 'num_leaves': 31, 'min_child_samples': 1964, 'colsample_bytree': 0.6915584767509445, 'reg_alpha': 2.0531922814181136e-07, 'reg_lambda': 0.1582595950560301, 'is_unbalance': False}. Best is trial 20 with value: 0.7865516324554676.\n",
      "[I 2025-08-31 11:46:49,344] Trial 25 finished with value: 0.7867371126473209 and parameters: {'n_estimators': 463, 'num_leaves': 29, 'min_child_samples': 1704, 'colsample_bytree': 0.5003700126377728, 'reg_alpha': 2.4598752592477894e-05, 'reg_lambda': 8.403217660406583e-05, 'is_unbalance': False}. Best is trial 25 with value: 0.7867371126473209.\n",
      "[I 2025-08-31 11:47:09,951] Trial 26 finished with value: 0.786747332234221 and parameters: {'n_estimators': 444, 'num_leaves': 31, 'min_child_samples': 1676, 'colsample_bytree': 0.5061035388749181, 'reg_alpha': 2.5372136444608474e-05, 'reg_lambda': 6.228866828430411e-05, 'is_unbalance': False}. Best is trial 26 with value: 0.786747332234221.\n",
      "[I 2025-08-31 11:47:29,376] Trial 27 finished with value: 0.7860700004544271 and parameters: {'n_estimators': 441, 'num_leaves': 39, 'min_child_samples': 1639, 'colsample_bytree': 0.5008519231664201, 'reg_alpha': 3.072008672176955e-05, 'reg_lambda': 6.796274055250794e-05, 'is_unbalance': False}. Best is trial 26 with value: 0.786747332234221.\n",
      "[I 2025-08-31 11:47:50,751] Trial 28 finished with value: 0.7855492377111137 and parameters: {'n_estimators': 395, 'num_leaves': 64, 'min_child_samples': 1316, 'colsample_bytree': 0.5436778315624475, 'reg_alpha': 1.2835860975438645e-05, 'reg_lambda': 0.0001705794440908254, 'is_unbalance': False}. Best is trial 26 with value: 0.786747332234221.\n",
      "[I 2025-08-31 11:48:10,292] Trial 29 finished with value: 0.7865434538081424 and parameters: {'n_estimators': 439, 'num_leaves': 34, 'min_child_samples': 1688, 'colsample_bytree': 0.5217177473883279, 'reg_alpha': 0.00014523365732816527, 'reg_lambda': 1.6223686361110498e-05, 'is_unbalance': False}. Best is trial 26 with value: 0.786747332234221.\n",
      "[I 2025-08-31 11:48:30,358] Trial 30 finished with value: 0.7867978544260612 and parameters: {'n_estimators': 459, 'num_leaves': 34, 'min_child_samples': 1480, 'colsample_bytree': 0.5026035633309065, 'reg_alpha': 0.02010353751225407, 'reg_lambda': 0.00045574002424692125, 'is_unbalance': False}. Best is trial 30 with value: 0.7867978544260612.\n",
      "[I 2025-08-31 11:48:50,184] Trial 31 finished with value: 0.7865500437489314 and parameters: {'n_estimators': 462, 'num_leaves': 35, 'min_child_samples': 1515, 'colsample_bytree': 0.5068222859871714, 'reg_alpha': 0.001968913636248283, 'reg_lambda': 0.0013481589141493425, 'is_unbalance': False}. Best is trial 30 with value: 0.7867978544260612.\n",
      "[I 2025-08-31 11:49:12,938] Trial 32 finished with value: 0.7867708090015101 and parameters: {'n_estimators': 508, 'num_leaves': 32, 'min_child_samples': 1848, 'colsample_bytree': 0.5645191053515345, 'reg_alpha': 0.016631776680798092, 'reg_lambda': 0.0003489222923048512, 'is_unbalance': False}. Best is trial 30 with value: 0.7867978544260612.\n",
      "[I 2025-08-31 11:49:34,100] Trial 33 finished with value: 0.7865141350026041 and parameters: {'n_estimators': 511, 'num_leaves': 42, 'min_child_samples': 1791, 'colsample_bytree': 0.5489666980559005, 'reg_alpha': 0.02135055892028531, 'reg_lambda': 3.108001030095247e-05, 'is_unbalance': False}. Best is trial 30 with value: 0.7867978544260612.\n",
      "[I 2025-08-31 11:49:54,414] Trial 34 finished with value: 0.7867628632609696 and parameters: {'n_estimators': 458, 'num_leaves': 31, 'min_child_samples': 1846, 'colsample_bytree': 0.5620910389127292, 'reg_alpha': 0.00970810144485931, 'reg_lambda': 2.9106634815532594e-06, 'is_unbalance': False}. Best is trial 30 with value: 0.7867978544260612.\n",
      "[I 2025-08-31 11:50:13,862] Trial 35 finished with value: 0.78657727583353 and parameters: {'n_estimators': 398, 'num_leaves': 33, 'min_child_samples': 1822, 'colsample_bytree': 0.5584802076266311, 'reg_alpha': 0.012210157245486792, 'reg_lambda': 3.238637591528797e-06, 'is_unbalance': False}. Best is trial 30 with value: 0.7867978544260612.\n",
      "[I 2025-08-31 11:50:18,183] Trial 36 finished with value: 0.6957459962451302 and parameters: {'n_estimators': 369, 'num_leaves': 37, 'min_child_samples': 1854, 'colsample_bytree': 0.6169091689101078, 'reg_alpha': 0.18977340560562672, 'reg_lambda': 0.00043573597592635164, 'is_unbalance': True}. Best is trial 30 with value: 0.7867978544260612.\n",
      "[I 2025-08-31 11:50:37,425] Trial 37 finished with value: 0.7865575733011985 and parameters: {'n_estimators': 509, 'num_leaves': 42, 'min_child_samples': 1349, 'colsample_bytree': 0.5264357248116956, 'reg_alpha': 0.005758057844336112, 'reg_lambda': 1.0775660126420451e-05, 'is_unbalance': False}. Best is trial 30 with value: 0.7867978544260612.\n",
      "[I 2025-08-31 11:50:41,863] Trial 38 finished with value: 0.6939146340700508 and parameters: {'n_estimators': 452, 'num_leaves': 32, 'min_child_samples': 1874, 'colsample_bytree': 0.7710251255712728, 'reg_alpha': 0.1394687117094156, 'reg_lambda': 1.4395482195731862e-06, 'is_unbalance': True}. Best is trial 30 with value: 0.7867978544260612.\n",
      "[I 2025-08-31 11:51:00,976] Trial 39 finished with value: 0.7860473797616343 and parameters: {'n_estimators': 416, 'num_leaves': 28, 'min_child_samples': 1230, 'colsample_bytree': 0.5608114829174254, 'reg_alpha': 0.0005914585114761642, 'reg_lambda': 6.860075719386894e-06, 'is_unbalance': False}. Best is trial 30 with value: 0.7867978544260612.\n",
      "[I 2025-08-31 11:51:05,355] Trial 40 finished with value: 0.6950313293320881 and parameters: {'n_estimators': 345, 'num_leaves': 47, 'min_child_samples': 1530, 'colsample_bytree': 0.5216314301003456, 'reg_alpha': 0.004388390464307383, 'reg_lambda': 3.483359990155116e-05, 'is_unbalance': True}. Best is trial 30 with value: 0.7867978544260612.\n",
      "[I 2025-08-31 11:51:24,826] Trial 41 finished with value: 0.7865433891793412 and parameters: {'n_estimators': 452, 'num_leaves': 29, 'min_child_samples': 1739, 'colsample_bytree': 0.510460004657625, 'reg_alpha': 3.1728109139045452e-06, 'reg_lambda': 0.0003230645522808535, 'is_unbalance': False}. Best is trial 30 with value: 0.7867978544260612.\n",
      "[I 2025-08-31 11:51:44,962] Trial 42 finished with value: 0.7867537456103528 and parameters: {'n_estimators': 471, 'num_leaves': 24, 'min_child_samples': 1748, 'colsample_bytree': 0.5407625808165568, 'reg_alpha': 0.00010939573149618495, 'reg_lambda': 6.723240926531246e-05, 'is_unbalance': False}. Best is trial 30 with value: 0.7867978544260612.\n",
      "[I 2025-08-31 11:52:05,477] Trial 43 finished with value: 0.7870596664254301 and parameters: {'n_estimators': 478, 'num_leaves': 24, 'min_child_samples': 1895, 'colsample_bytree': 0.5392851842759175, 'reg_alpha': 0.04900744747106802, 'reg_lambda': 8.941276226750296e-08, 'is_unbalance': False}. Best is trial 43 with value: 0.7870596664254301.\n",
      "[I 2025-08-31 11:52:26,104] Trial 44 finished with value: 0.7863937926374746 and parameters: {'n_estimators': 478, 'num_leaves': 23, 'min_child_samples': 1916, 'colsample_bytree': 0.5599567037134644, 'reg_alpha': 0.04812465714051805, 'reg_lambda': 4.379034072703999e-08, 'is_unbalance': False}. Best is trial 43 with value: 0.7870596664254301.\n",
      "[I 2025-08-31 11:52:46,643] Trial 45 finished with value: 0.7864192015065697 and parameters: {'n_estimators': 517, 'num_leaves': 24, 'min_child_samples': 1771, 'colsample_bytree': 0.6140350542462826, 'reg_alpha': 0.13001703973808038, 'reg_lambda': 1.8270951591715082e-07, 'is_unbalance': False}. Best is trial 43 with value: 0.7870596664254301.\n",
      "[I 2025-08-31 11:53:06,772] Trial 46 finished with value: 0.7867571292161251 and parameters: {'n_estimators': 491, 'num_leaves': 21, 'min_child_samples': 1458, 'colsample_bytree': 0.5336713110030644, 'reg_alpha': 0.4245091130460568, 'reg_lambda': 8.989286365735133e-07, 'is_unbalance': False}. Best is trial 43 with value: 0.7870596664254301.\n",
      "[I 2025-08-31 11:53:10,862] Trial 47 finished with value: 0.6884424743632882 and parameters: {'n_estimators': 492, 'num_leaves': 20, 'min_child_samples': 1448, 'colsample_bytree': 0.6817771954782693, 'reg_alpha': 0.22797580470084292, 'reg_lambda': 1.7112307766055526e-07, 'is_unbalance': True}. Best is trial 43 with value: 0.7870596664254301.\n",
      "[I 2025-08-31 11:53:32,870] Trial 48 finished with value: 0.7851264624837102 and parameters: {'n_estimators': 415, 'num_leaves': 37, 'min_child_samples': 1145, 'colsample_bytree': 0.941356012034047, 'reg_alpha': 0.018850606622412072, 'reg_lambda': 6.487552247565306e-07, 'is_unbalance': False}. Best is trial 43 with value: 0.7870596664254301.\n",
      "[I 2025-08-31 11:53:55,402] Trial 49 finished with value: 0.7868665883940661 and parameters: {'n_estimators': 561, 'num_leaves': 27, 'min_child_samples': 1551, 'colsample_bytree': 0.6353079736718509, 'reg_alpha': 0.9482457768591531, 'reg_lambda': 4.8313147878555174e-08, 'is_unbalance': False}. Best is trial 43 with value: 0.7870596664254301.\n",
      "[I 2025-08-31 11:54:17,838] Trial 50 finished with value: 0.786838505479825 and parameters: {'n_estimators': 566, 'num_leaves': 27, 'min_child_samples': 1590, 'colsample_bytree': 0.6312772689833265, 'reg_alpha': 0.9280163450503214, 'reg_lambda': 2.7333088167266943e-08, 'is_unbalance': False}. Best is trial 43 with value: 0.7870596664254301.\n",
      "[I 2025-08-31 11:54:40,002] Trial 51 finished with value: 0.7865898376954406 and parameters: {'n_estimators': 568, 'num_leaves': 26, 'min_child_samples': 1578, 'colsample_bytree': 0.6349099982606533, 'reg_alpha': 0.9422732271513091, 'reg_lambda': 2.3642248273285874e-08, 'is_unbalance': False}. Best is trial 43 with value: 0.7870596664254301.\n",
      "[I 2025-08-31 11:55:01,901] Trial 52 finished with value: 0.7865724690272164 and parameters: {'n_estimators': 522, 'num_leaves': 27, 'min_child_samples': 1902, 'colsample_bytree': 0.6779176294077953, 'reg_alpha': 0.07289199759785078, 'reg_lambda': 5.846098923446614e-08, 'is_unbalance': False}. Best is trial 43 with value: 0.7870596664254301.\n",
      "[I 2025-08-31 11:55:22,187] Trial 53 finished with value: 0.7865484426386321 and parameters: {'n_estimators': 564, 'num_leaves': 33, 'min_child_samples': 1399, 'colsample_bytree': 0.6003816184397716, 'reg_alpha': 0.29575655780558585, 'reg_lambda': 1.4623449498269752e-08, 'is_unbalance': False}. Best is trial 43 with value: 0.7870596664254301.\n",
      "[I 2025-08-31 11:55:43,217] Trial 54 finished with value: 0.7863572633251692 and parameters: {'n_estimators': 532, 'num_leaves': 35, 'min_child_samples': 1588, 'colsample_bytree': 0.6289225015024479, 'reg_alpha': 0.5010544016662132, 'reg_lambda': 7.20672415674204e-08, 'is_unbalance': False}. Best is trial 43 with value: 0.7870596664254301.\n",
      "[I 2025-08-31 11:56:03,301] Trial 55 finished with value: 0.7871199780120594 and parameters: {'n_estimators': 503, 'num_leaves': 27, 'min_child_samples': 1246, 'colsample_bytree': 0.5701320214343062, 'reg_alpha': 0.001362484304382354, 'reg_lambda': 3.455363829271835e-07, 'is_unbalance': False}. Best is trial 55 with value: 0.7871199780120594.\n",
      "[I 2025-08-31 11:56:16,550] Trial 56 finished with value: 0.7842553325566003 and parameters: {'n_estimators': 260, 'num_leaves': 22, 'min_child_samples': 1239, 'colsample_bytree': 0.598218867028656, 'reg_alpha': 0.0722755240485433, 'reg_lambda': 3.859631202999159e-07, 'is_unbalance': False}. Best is trial 55 with value: 0.7871199780120594.\n",
      "[I 2025-08-31 11:56:36,702] Trial 57 finished with value: 0.7865851362205933 and parameters: {'n_estimators': 550, 'num_leaves': 26, 'min_child_samples': 1271, 'colsample_bytree': 0.573660449933704, 'reg_alpha': 0.0007588927056463203, 'reg_lambda': 1.0999248691042619e-07, 'is_unbalance': False}. Best is trial 55 with value: 0.7871199780120594.\n",
      "[I 2025-08-31 11:56:41,082] Trial 58 finished with value: 0.6922909415080892 and parameters: {'n_estimators': 509, 'num_leaves': 28, 'min_child_samples': 1098, 'colsample_bytree': 0.7409491263565123, 'reg_alpha': 0.028683546811428918, 'reg_lambda': 3.438776224230051e-08, 'is_unbalance': True}. Best is trial 55 with value: 0.7871199780120594.\n",
      "[I 2025-08-31 11:57:01,943] Trial 59 finished with value: 0.7867663850346707 and parameters: {'n_estimators': 535, 'num_leaves': 19, 'min_child_samples': 1377, 'colsample_bytree': 0.6669772364514737, 'reg_alpha': 0.0013754199386149968, 'reg_lambda': 0.00330054620389926, 'is_unbalance': False}. Best is trial 55 with value: 0.7871199780120594.\n",
      "[I 2025-08-31 11:57:23,434] Trial 60 finished with value: 0.7866865237114806 and parameters: {'n_estimators': 584, 'num_leaves': 25, 'min_child_samples': 1491, 'colsample_bytree': 0.6995797345997578, 'reg_alpha': 0.005381210025606742, 'reg_lambda': 1.578072500820986e-08, 'is_unbalance': False}. Best is trial 55 with value: 0.7871199780120594.\n",
      "[I 2025-08-31 11:57:43,898] Trial 61 finished with value: 0.7865746379931872 and parameters: {'n_estimators': 532, 'num_leaves': 19, 'min_child_samples': 1389, 'colsample_bytree': 0.6487425810651545, 'reg_alpha': 0.0014896414547529364, 'reg_lambda': 0.003410673203740964, 'is_unbalance': False}. Best is trial 55 with value: 0.7871199780120594.\n",
      "[I 2025-08-31 11:58:05,301] Trial 62 finished with value: 0.786884385369147 and parameters: {'n_estimators': 545, 'num_leaves': 19, 'min_child_samples': 1560, 'colsample_bytree': 0.6634263965289284, 'reg_alpha': 0.0035182420693353725, 'reg_lambda': 0.000916836363392587, 'is_unbalance': False}. Best is trial 55 with value: 0.7871199780120594.\n",
      "[I 2025-08-31 11:58:28,650] Trial 63 finished with value: 0.7865471271669842 and parameters: {'n_estimators': 567, 'num_leaves': 22, 'min_child_samples': 1559, 'colsample_bytree': 0.7854648719815226, 'reg_alpha': 0.003112402290441716, 'reg_lambda': 0.0008770265398586184, 'is_unbalance': False}. Best is trial 55 with value: 0.7871199780120594.\n",
      "[I 2025-08-31 11:58:47,811] Trial 64 finished with value: 0.7863481303835227 and parameters: {'n_estimators': 503, 'num_leaves': 27, 'min_child_samples': 1645, 'colsample_bytree': 0.5885421621064902, 'reg_alpha': 0.009381230758776525, 'reg_lambda': 0.00021856836357709818, 'is_unbalance': False}. Best is trial 55 with value: 0.7871199780120594.\n",
      "[I 2025-08-31 11:59:07,603] Trial 65 finished with value: 0.7862545132043441 and parameters: {'n_estimators': 557, 'num_leaves': 30, 'min_child_samples': 1722, 'colsample_bytree': 0.6093581092146114, 'reg_alpha': 0.02934638969419399, 'reg_lambda': 9.069583557695333e-08, 'is_unbalance': False}. Best is trial 55 with value: 0.7871199780120594.\n",
      "[I 2025-08-31 11:59:29,407] Trial 66 finished with value: 0.7867117703200284 and parameters: {'n_estimators': 592, 'num_leaves': 24, 'min_child_samples': 1482, 'colsample_bytree': 0.6332022984978191, 'reg_alpha': 0.10085617041202527, 'reg_lambda': 3.2782990894792736e-07, 'is_unbalance': False}. Best is trial 55 with value: 0.7871199780120594.\n",
      "[I 2025-08-31 11:59:50,929] Trial 67 finished with value: 0.786229889735011 and parameters: {'n_estimators': 544, 'num_leaves': 29, 'min_child_samples': 1318, 'colsample_bytree': 0.7290177309281023, 'reg_alpha': 0.0002651119223071624, 'reg_lambda': 0.0013472444396835795, 'is_unbalance': False}. Best is trial 55 with value: 0.7871199780120594.\n",
      "[I 2025-08-31 12:00:09,137] Trial 68 finished with value: 0.7850705034756122 and parameters: {'n_estimators': 477, 'num_leaves': 52, 'min_child_samples': 174, 'colsample_bytree': 0.5834192548681799, 'reg_alpha': 0.015467892491850892, 'reg_lambda': 3.289184236810724e-08, 'is_unbalance': False}. Best is trial 55 with value: 0.7871199780120594.\n",
      "[I 2025-08-31 12:00:27,878] Trial 69 finished with value: 0.7859291076366182 and parameters: {'n_estimators': 576, 'num_leaves': 36, 'min_child_samples': 898, 'colsample_bytree': 0.5468669705755256, 'reg_alpha': 0.4572693058065865, 'reg_lambda': 0.0006508779551529812, 'is_unbalance': False}. Best is trial 55 with value: 0.7871199780120594.\n",
      "[I 2025-08-31 12:00:48,456] Trial 70 finished with value: 0.7861512052206387 and parameters: {'n_estimators': 519, 'num_leaves': 18, 'min_child_samples': 1931, 'colsample_bytree': 0.6669337241540888, 'reg_alpha': 0.040876402025396025, 'reg_lambda': 1.3946062057296504e-07, 'is_unbalance': False}. Best is trial 55 with value: 0.7871199780120594.\n",
      "[I 2025-08-31 12:01:09,773] Trial 71 finished with value: 0.7866664197645531 and parameters: {'n_estimators': 533, 'num_leaves': 20, 'min_child_samples': 1372, 'colsample_bytree': 0.7056623239784708, 'reg_alpha': 0.0009385395334976167, 'reg_lambda': 0.006447809194750557, 'is_unbalance': False}. Best is trial 55 with value: 0.7871199780120594.\n",
      "[I 2025-08-31 12:01:20,703] Trial 72 finished with value: 0.7822868083600113 and parameters: {'n_estimators': 200, 'num_leaves': 21, 'min_child_samples': 1430, 'colsample_bytree': 0.6661014984523973, 'reg_alpha': 0.0013100280937191683, 'reg_lambda': 0.0020548262755536034, 'is_unbalance': False}. Best is trial 55 with value: 0.7871199780120594.\n",
      "[I 2025-08-31 12:01:40,863] Trial 73 finished with value: 0.786537961703748 and parameters: {'n_estimators': 545, 'num_leaves': 17, 'min_child_samples': 1184, 'colsample_bytree': 0.6245402444989437, 'reg_alpha': 0.0027196755902917603, 'reg_lambda': 0.0021502957965012968, 'is_unbalance': False}. Best is trial 55 with value: 0.7871199780120594.\n",
      "[I 2025-08-31 12:02:01,717] Trial 74 finished with value: 0.7866505990943173 and parameters: {'n_estimators': 520, 'num_leaves': 25, 'min_child_samples': 1539, 'colsample_bytree': 0.649860787918345, 'reg_alpha': 0.009502769989875868, 'reg_lambda': 0.022552422917340293, 'is_unbalance': False}. Best is trial 55 with value: 0.7871199780120594.\n",
      "[I 2025-08-31 12:02:22,143] Trial 75 finished with value: 0.7867100548885377 and parameters: {'n_estimators': 559, 'num_leaves': 32, 'min_child_samples': 1653, 'colsample_bytree': 0.5725877883882117, 'reg_alpha': 0.0003330791831252889, 'reg_lambda': 0.0002956890866252761, 'is_unbalance': False}. Best is trial 55 with value: 0.7871199780120594.\n",
      "[I 2025-08-31 12:02:41,726] Trial 76 finished with value: 0.7864304196094373 and parameters: {'n_estimators': 501, 'num_leaves': 19, 'min_child_samples': 1798, 'colsample_bytree': 0.519607029748237, 'reg_alpha': 0.6594864512239654, 'reg_lambda': 0.00010787194793480618, 'is_unbalance': False}. Best is trial 55 with value: 0.7871199780120594.\n",
      "[I 2025-08-31 12:02:45,880] Trial 77 finished with value: 0.6900345501955215 and parameters: {'n_estimators': 538, 'num_leaves': 23, 'min_child_samples': 1271, 'colsample_bytree': 0.5350149968097574, 'reg_alpha': 0.0057952443765846556, 'reg_lambda': 0.0038197269670657294, 'is_unbalance': True}. Best is trial 55 with value: 0.7871199780120594.\n",
      "[I 2025-08-31 12:03:07,968] Trial 78 finished with value: 0.7859701749897379 and parameters: {'n_estimators': 578, 'num_leaves': 33, 'min_child_samples': 1996, 'colsample_bytree': 0.8442060329454091, 'reg_alpha': 0.286343255921097, 'reg_lambda': 2.9547636610242756e-07, 'is_unbalance': False}. Best is trial 55 with value: 0.7871199780120594.\n",
      "[I 2025-08-31 12:03:27,775] Trial 79 finished with value: 0.7858422112838626 and parameters: {'n_estimators': 496, 'num_leaves': 27, 'min_child_samples': 518, 'colsample_bytree': 0.5942177564397697, 'reg_alpha': 0.00276488568501925, 'reg_lambda': 0.0007143406301380252, 'is_unbalance': False}. Best is trial 55 with value: 0.7871199780120594.\n",
      "[I 2025-08-31 12:03:42,675] Trial 80 finished with value: 0.7845114184214788 and parameters: {'n_estimators': 302, 'num_leaves': 22, 'min_child_samples': 1070, 'colsample_bytree': 0.680897896500045, 'reg_alpha': 0.00021425292491468592, 'reg_lambda': 1.1434143900636272e-08, 'is_unbalance': False}. Best is trial 55 with value: 0.7871199780120594.\n",
      "[I 2025-08-31 12:04:04,575] Trial 81 finished with value: 0.7868714502380193 and parameters: {'n_estimators': 465, 'num_leaves': 31, 'min_child_samples': 1844, 'colsample_bytree': 0.5524582926696674, 'reg_alpha': 0.010811856293544855, 'reg_lambda': 1.4384104280713807e-06, 'is_unbalance': False}. Best is trial 55 with value: 0.7871199780120594.\n",
      "[I 2025-08-31 12:04:24,024] Trial 82 finished with value: 0.7862984721752677 and parameters: {'n_estimators': 472, 'num_leaves': 41, 'min_child_samples': 1693, 'colsample_bytree': 0.5172001643251875, 'reg_alpha': 0.028972071594518995, 'reg_lambda': 6.147876564726869e-07, 'is_unbalance': False}. Best is trial 55 with value: 0.7871199780120594.\n",
      "[I 2025-08-31 12:04:43,955] Trial 83 finished with value: 0.7867806893091517 and parameters: {'n_estimators': 437, 'num_leaves': 31, 'min_child_samples': 1868, 'colsample_bytree': 0.5551007608869889, 'reg_alpha': 0.0004679054072137835, 'reg_lambda': 5.5026930262911607e-08, 'is_unbalance': False}. Best is trial 55 with value: 0.7871199780120594.\n",
      "[I 2025-08-31 12:05:04,557] Trial 84 finished with value: 0.7872527447481852 and parameters: {'n_estimators': 429, 'num_leaves': 31, 'min_child_samples': 1858, 'colsample_bytree': 0.5532762406050483, 'reg_alpha': 0.0006007093688057133, 'reg_lambda': 5.5022411175089826e-08, 'is_unbalance': False}. Best is trial 84 with value: 0.7872527447481852.\n",
      "[I 2025-08-31 12:05:24,273] Trial 85 finished with value: 0.7865476552157473 and parameters: {'n_estimators': 421, 'num_leaves': 30, 'min_child_samples': 1796, 'colsample_bytree': 0.5479637358082114, 'reg_alpha': 0.0005975390507609406, 'reg_lambda': 2.4091379766836648e-08, 'is_unbalance': False}. Best is trial 84 with value: 0.7872527447481852.\n",
      "[I 2025-08-31 12:05:44,139] Trial 86 finished with value: 0.7865942794206903 and parameters: {'n_estimators': 435, 'num_leaves': 28, 'min_child_samples': 1940, 'colsample_bytree': 0.5324318421345168, 'reg_alpha': 0.0004652651088326227, 'reg_lambda': 5.2849856025231484e-08, 'is_unbalance': False}. Best is trial 84 with value: 0.7872527447481852.\n",
      "[I 2025-08-31 12:06:05,397] Trial 87 finished with value: 0.7864297700991336 and parameters: {'n_estimators': 464, 'num_leaves': 34, 'min_child_samples': 1864, 'colsample_bytree': 0.5537763852326928, 'reg_alpha': 0.00014272556585636978, 'reg_lambda': 1.8767626462055923e-06, 'is_unbalance': False}. Best is trial 84 with value: 0.7872527447481852.\n",
      "[I 2025-08-31 12:06:25,141] Trial 88 finished with value: 0.7865212983445666 and parameters: {'n_estimators': 407, 'num_leaves': 30, 'min_child_samples': 1769, 'colsample_bytree': 0.6100417760145895, 'reg_alpha': 5.810195097816769e-05, 'reg_lambda': 9.173777060174957e-08, 'is_unbalance': False}. Best is trial 84 with value: 0.7872527447481852.\n",
      "[I 2025-08-31 12:06:29,405] Trial 89 finished with value: 0.6935170253479734 and parameters: {'n_estimators': 429, 'num_leaves': 31, 'min_child_samples': 1612, 'colsample_bytree': 0.57615094399578, 'reg_alpha': 0.0009184301631532606, 'reg_lambda': 2.3851999360445083e-07, 'is_unbalance': True}. Best is trial 84 with value: 0.7872527447481852.\n",
      "[I 2025-08-31 12:06:49,655] Trial 90 finished with value: 0.7865457386601318 and parameters: {'n_estimators': 392, 'num_leaves': 38, 'min_child_samples': 1890, 'colsample_bytree': 0.510785921142306, 'reg_alpha': 0.16051339382922736, 'reg_lambda': 2.83353839534699e-08, 'is_unbalance': False}. Best is trial 84 with value: 0.7872527447481852.\n",
      "[I 2025-08-31 12:07:09,488] Trial 91 finished with value: 0.7867694623540994 and parameters: {'n_estimators': 483, 'num_leaves': 32, 'min_child_samples': 1828, 'colsample_bytree': 0.5688052406614525, 'reg_alpha': 0.004054759221127467, 'reg_lambda': 1.8145587796983458e-08, 'is_unbalance': False}. Best is trial 84 with value: 0.7872527447481852.\n",
      "[I 2025-08-31 12:07:30,062] Trial 92 finished with value: 0.7864792929758482 and parameters: {'n_estimators': 444, 'num_leaves': 29, 'min_child_samples': 1745, 'colsample_bytree': 0.5640656594894387, 'reg_alpha': 0.012228282042023893, 'reg_lambda': 0.00043298407565479783, 'is_unbalance': False}. Best is trial 84 with value: 0.7872527447481852.\n",
      "[I 2025-08-31 12:07:50,162] Trial 93 finished with value: 0.7865961618022187 and parameters: {'n_estimators': 460, 'num_leaves': 34, 'min_child_samples': 1971, 'colsample_bytree': 0.5311509078539433, 'reg_alpha': 0.0068707326721976865, 'reg_lambda': 4.514070814453981e-08, 'is_unbalance': False}. Best is trial 84 with value: 0.7872527447481852.\n",
      "[I 2025-08-31 12:08:10,332] Trial 94 finished with value: 0.7866999895057367 and parameters: {'n_estimators': 452, 'num_leaves': 26, 'min_child_samples': 1689, 'colsample_bytree': 0.5544235562582633, 'reg_alpha': 0.002074379508633148, 'reg_lambda': 7.519475896016627e-08, 'is_unbalance': False}. Best is trial 84 with value: 0.7872527447481852.\n",
      "[I 2025-08-31 12:08:31,536] Trial 95 finished with value: 0.786665442625248 and parameters: {'n_estimators': 470, 'num_leaves': 32, 'min_child_samples': 1837, 'colsample_bytree': 0.5425229778928676, 'reg_alpha': 0.09042844546444449, 'reg_lambda': 1.320104465683382e-07, 'is_unbalance': False}. Best is trial 84 with value: 0.7872527447481852.\n",
      "[I 2025-08-31 12:08:52,052] Trial 96 finished with value: 0.7867223905170934 and parameters: {'n_estimators': 488, 'num_leaves': 28, 'min_child_samples': 1568, 'colsample_bytree': 0.5813718807990144, 'reg_alpha': 0.0431921787938076, 'reg_lambda': 5.607863701584783e-07, 'is_unbalance': False}. Best is trial 84 with value: 0.7872527447481852.\n",
      "[I 2025-08-31 12:09:11,785] Trial 97 finished with value: 0.786076178333922 and parameters: {'n_estimators': 432, 'num_leaves': 26, 'min_child_samples': 1871, 'colsample_bytree': 0.6421240078531663, 'reg_alpha': 0.017757036635217698, 'reg_lambda': 2.0886495580094367e-07, 'is_unbalance': False}. Best is trial 84 with value: 0.7872527447481852.\n",
      "[I 2025-08-31 12:09:32,402] Trial 98 finished with value: 0.7866141909564031 and parameters: {'n_estimators': 452, 'num_leaves': 31, 'min_child_samples': 1622, 'colsample_bytree': 0.5959065176187226, 'reg_alpha': 0.700480265522102, 'reg_lambda': 1.0826223777943972e-06, 'is_unbalance': False}. Best is trial 84 with value: 0.7872527447481852.\n",
      "[I 2025-08-31 12:09:52,651] Trial 99 finished with value: 0.7865157879869311 and parameters: {'n_estimators': 407, 'num_leaves': 37, 'min_child_samples': 1920, 'colsample_bytree': 0.5202620349287991, 'reg_alpha': 0.0017438583093510312, 'reg_lambda': 0.00015376138225626658, 'is_unbalance': False}. Best is trial 84 with value: 0.7872527447481852.\n",
      "[I 2025-08-31 12:10:10,184] Trial 100 finished with value: 0.7866236502449437 and parameters: {'n_estimators': 381, 'num_leaves': 29, 'min_child_samples': 1708, 'colsample_bytree': 0.5032063359256328, 'reg_alpha': 0.008562315626967796, 'reg_lambda': 0.0013187624526440065, 'is_unbalance': False}. Best is trial 84 with value: 0.7872527447481852.\n",
      "[I 2025-08-31 12:10:29,617] Trial 101 finished with value: 0.7864135502836096 and parameters: {'n_estimators': 481, 'num_leaves': 33, 'min_child_samples': 1808, 'colsample_bytree': 0.5684493997509562, 'reg_alpha': 0.004252355372265887, 'reg_lambda': 1.8698130070330216e-08, 'is_unbalance': False}. Best is trial 84 with value: 0.7872527447481852.\n",
      "[I 2025-08-31 12:10:50,100] Trial 102 finished with value: 0.7870942223614726 and parameters: {'n_estimators': 511, 'num_leaves': 32, 'min_child_samples': 1840, 'colsample_bytree': 0.5658779139576535, 'reg_alpha': 0.002959129711252547, 'reg_lambda': 4.467478298393742e-08, 'is_unbalance': False}. Best is trial 84 with value: 0.7872527447481852.\n",
      "[I 2025-08-31 12:11:10,050] Trial 103 finished with value: 0.7866229216509243 and parameters: {'n_estimators': 508, 'num_leaves': 35, 'min_child_samples': 1751, 'colsample_bytree': 0.5551039357977268, 'reg_alpha': 0.0009323660760834127, 'reg_lambda': 4.144604653546437e-08, 'is_unbalance': False}. Best is trial 84 with value: 0.7872527447481852.\n",
      "[I 2025-08-31 12:11:29,933] Trial 104 finished with value: 0.7865576411915464 and parameters: {'n_estimators': 514, 'num_leaves': 36, 'min_child_samples': 1507, 'colsample_bytree': 0.6055877618866112, 'reg_alpha': 0.0041692241107041455, 'reg_lambda': 9.727410730866823e-08, 'is_unbalance': False}. Best is trial 84 with value: 0.7872527447481852.\n",
      "[I 2025-08-31 12:11:50,644] Trial 105 finished with value: 0.7868850722838931 and parameters: {'n_estimators': 525, 'num_leaves': 28, 'min_child_samples': 1951, 'colsample_bytree': 0.5275112128803733, 'reg_alpha': 0.024655841662947448, 'reg_lambda': 1.5138555963464154e-07, 'is_unbalance': False}. Best is trial 84 with value: 0.7872527447481852.\n",
      "[I 2025-08-31 12:12:11,699] Trial 106 finished with value: 0.7870207783295642 and parameters: {'n_estimators': 541, 'num_leaves': 25, 'min_child_samples': 1953, 'colsample_bytree': 0.5401873400034146, 'reg_alpha': 0.02744372823710799, 'reg_lambda': 6.017803500915724e-08, 'is_unbalance': False}. Best is trial 84 with value: 0.7872527447481852.\n",
      "[I 2025-08-31 12:12:32,465] Trial 107 finished with value: 0.7866676609019695 and parameters: {'n_estimators': 524, 'num_leaves': 25, 'min_child_samples': 1956, 'colsample_bytree': 0.5253385407174197, 'reg_alpha': 0.024437052283314047, 'reg_lambda': 1.6220382691960728e-07, 'is_unbalance': False}. Best is trial 84 with value: 0.7872527447481852.\n",
      "[I 2025-08-31 12:12:36,532] Trial 108 finished with value: 0.690616406585781 and parameters: {'n_estimators': 551, 'num_leaves': 24, 'min_child_samples': 2000, 'colsample_bytree': 0.5367820479334539, 'reg_alpha': 0.011868196504626002, 'reg_lambda': 4.1638399012053194e-07, 'is_unbalance': True}. Best is trial 84 with value: 0.7872527447481852.\n",
      "[I 2025-08-31 12:12:56,498] Trial 109 finished with value: 0.7866459616493889 and parameters: {'n_estimators': 560, 'num_leaves': 27, 'min_child_samples': 1899, 'colsample_bytree': 0.5127540327955643, 'reg_alpha': 0.0699113326776353, 'reg_lambda': 6.841787034575658e-08, 'is_unbalance': False}. Best is trial 84 with value: 0.7872527447481852.\n",
      "[I 2025-08-31 12:13:15,914] Trial 110 finished with value: 0.7865121806874116 and parameters: {'n_estimators': 540, 'num_leaves': 28, 'min_child_samples': 1441, 'colsample_bytree': 0.6192457593780574, 'reg_alpha': 0.043123779695563476, 'reg_lambda': 1.0958981755842644e-08, 'is_unbalance': False}. Best is trial 84 with value: 0.7872527447481852.\n",
      "[I 2025-08-31 12:13:35,927] Trial 111 finished with value: 0.7867224568053525 and parameters: {'n_estimators': 499, 'num_leaves': 23, 'min_child_samples': 1950, 'colsample_bytree': 0.5390812451889233, 'reg_alpha': 0.00737217977612527, 'reg_lambda': 5.031572868377758e-08, 'is_unbalance': False}. Best is trial 84 with value: 0.7872527447481852.\n",
      "[I 2025-08-31 12:13:56,930] Trial 112 finished with value: 0.787020499288952 and parameters: {'n_estimators': 524, 'num_leaves': 25, 'min_child_samples': 1892, 'colsample_bytree': 0.5881638680483812, 'reg_alpha': 0.29549332452134597, 'reg_lambda': 2.821357677137713e-08, 'is_unbalance': False}. Best is trial 84 with value: 0.7872527447481852.\n",
      "[I 2025-08-31 12:14:17,400] Trial 113 finished with value: 0.7864969058679854 and parameters: {'n_estimators': 530, 'num_leaves': 27, 'min_child_samples': 1912, 'colsample_bytree': 0.5827327955414204, 'reg_alpha': 0.3695745776238482, 'reg_lambda': 2.5630711176595514e-08, 'is_unbalance': False}. Best is trial 84 with value: 0.7872527447481852.\n",
      "[I 2025-08-31 12:14:37,755] Trial 114 finished with value: 0.7863109150343709 and parameters: {'n_estimators': 571, 'num_leaves': 25, 'min_child_samples': 1668, 'colsample_bytree': 0.5867735648614967, 'reg_alpha': 0.17566110770815085, 'reg_lambda': 1.043849298816952e-07, 'is_unbalance': False}. Best is trial 84 with value: 0.7872527447481852.\n",
      "[I 2025-08-31 12:14:57,862] Trial 115 finished with value: 0.7865820869047381 and parameters: {'n_estimators': 554, 'num_leaves': 26, 'min_child_samples': 1822, 'colsample_bytree': 0.5295401650420107, 'reg_alpha': 0.7127980904887528, 'reg_lambda': 2.627599785306783e-07, 'is_unbalance': False}. Best is trial 84 with value: 0.7872527447481852.\n",
      "[I 2025-08-31 12:15:19,729] Trial 116 finished with value: 0.7866089005617988 and parameters: {'n_estimators': 525, 'num_leaves': 29, 'min_child_samples': 1795, 'colsample_bytree': 0.544472369487185, 'reg_alpha': 0.09643115490262276, 'reg_lambda': 3.515898080342463e-08, 'is_unbalance': False}. Best is trial 84 with value: 0.7872527447481852.\n",
      "[I 2025-08-31 12:15:41,661] Trial 117 finished with value: 0.7868620573948928 and parameters: {'n_estimators': 596, 'num_leaves': 23, 'min_child_samples': 1966, 'colsample_bytree': 0.5625982238975386, 'reg_alpha': 0.3082118864003053, 'reg_lambda': 1.4398068911171637e-07, 'is_unbalance': False}. Best is trial 84 with value: 0.7872527447481852.\n",
      "[I 2025-08-31 12:16:03,419] Trial 118 finished with value: 0.7864519116793046 and parameters: {'n_estimators': 587, 'num_leaves': 23, 'min_child_samples': 1947, 'colsample_bytree': 0.5671319457626773, 'reg_alpha': 0.2319073909677825, 'reg_lambda': 1.588618607653261e-07, 'is_unbalance': False}. Best is trial 84 with value: 0.7872527447481852.\n",
      "[I 2025-08-31 12:16:25,086] Trial 119 finished with value: 0.7867862202094668 and parameters: {'n_estimators': 594, 'num_leaves': 20, 'min_child_samples': 1977, 'colsample_bytree': 0.5910007428773909, 'reg_alpha': 0.27431551492092915, 'reg_lambda': 6.637201994421118e-08, 'is_unbalance': False}. Best is trial 84 with value: 0.7872527447481852.\n",
      "[I 2025-08-31 12:16:46,119] Trial 120 finished with value: 0.7864837221913847 and parameters: {'n_estimators': 599, 'num_leaves': 24, 'min_child_samples': 1891, 'colsample_bytree': 0.626651752836379, 'reg_alpha': 0.49979758991750145, 'reg_lambda': 3.908971813817986e-07, 'is_unbalance': False}. Best is trial 84 with value: 0.7872527447481852.\n",
      "[I 2025-08-31 12:17:07,030] Trial 121 finished with value: 0.7868979846781894 and parameters: {'n_estimators': 542, 'num_leaves': 25, 'min_child_samples': 1860, 'colsample_bytree': 0.5744012081597324, 'reg_alpha': 0.967953908432843, 'reg_lambda': 1.217363490895923e-07, 'is_unbalance': False}. Best is trial 84 with value: 0.7872527447481852.\n",
      "[I 2025-08-31 12:17:28,043] Trial 122 finished with value: 0.786816608337599 and parameters: {'n_estimators': 541, 'num_leaves': 21, 'min_child_samples': 1854, 'colsample_bytree': 0.6032323535555346, 'reg_alpha': 0.8587811241067124, 'reg_lambda': 1.3800296071288192e-07, 'is_unbalance': False}. Best is trial 84 with value: 0.7872527447481852.\n",
      "[I 2025-08-31 12:17:49,337] Trial 123 finished with value: 0.7867801253931199 and parameters: {'n_estimators': 565, 'num_leaves': 25, 'min_child_samples': 1999, 'colsample_bytree': 0.5756058753338889, 'reg_alpha': 0.36782271163877844, 'reg_lambda': 3.407327046227505e-08, 'is_unbalance': False}. Best is trial 84 with value: 0.7872527447481852.\n",
      "[I 2025-08-31 12:18:10,195] Trial 124 finished with value: 0.7866136126393102 and parameters: {'n_estimators': 516, 'num_leaves': 22, 'min_child_samples': 1917, 'colsample_bytree': 0.5602620436492294, 'reg_alpha': 0.662735641976607, 'reg_lambda': 1.8105935405225994e-08, 'is_unbalance': False}. Best is trial 84 with value: 0.7872527447481852.\n",
      "[I 2025-08-31 12:18:31,308] Trial 125 finished with value: 0.7868647577019208 and parameters: {'n_estimators': 578, 'num_leaves': 27, 'min_child_samples': 1787, 'colsample_bytree': 0.5480878435998738, 'reg_alpha': 0.1230121855133462, 'reg_lambda': 8.458582656380802e-08, 'is_unbalance': False}. Best is trial 84 with value: 0.7872527447481852.\n",
      "[I 2025-08-31 12:18:55,058] Trial 126 finished with value: 0.784206672919713 and parameters: {'n_estimators': 579, 'num_leaves': 64, 'min_child_samples': 1775, 'colsample_bytree': 0.9939555149689976, 'reg_alpha': 0.11661278270718303, 'reg_lambda': 2.4262600723018694e-07, 'is_unbalance': False}. Best is trial 84 with value: 0.7872527447481852.\n",
      "[I 2025-08-31 12:19:14,803] Trial 127 finished with value: 0.7864860655757392 and parameters: {'n_estimators': 549, 'num_leaves': 24, 'min_child_samples': 1851, 'colsample_bytree': 0.551318785598635, 'reg_alpha': 0.16174875715376777, 'reg_lambda': 1.0185963044021744e-07, 'is_unbalance': False}. Best is trial 84 with value: 0.7872527447481852.\n",
      "[I 2025-08-31 12:19:18,791] Trial 128 finished with value: 0.6913798694251811 and parameters: {'n_estimators': 505, 'num_leaves': 26, 'min_child_samples': 1738, 'colsample_bytree': 0.5435372046659029, 'reg_alpha': 0.050829291625881706, 'reg_lambda': 7.314259454608469e-08, 'is_unbalance': True}. Best is trial 84 with value: 0.7872527447481852.\n",
      "[I 2025-08-31 12:19:38,140] Trial 129 finished with value: 0.7864742946738094 and parameters: {'n_estimators': 527, 'num_leaves': 28, 'min_child_samples': 1928, 'colsample_bytree': 0.5628719214810802, 'reg_alpha': 0.06564296404473005, 'reg_lambda': 8.030978387723521e-07, 'is_unbalance': False}. Best is trial 84 with value: 0.7872527447481852.\n",
      "[I 2025-08-31 12:19:58,107] Trial 130 finished with value: 0.7867915786771187 and parameters: {'n_estimators': 496, 'num_leaves': 23, 'min_child_samples': 1882, 'colsample_bytree': 0.5749604704737957, 'reg_alpha': 0.03274301354219267, 'reg_lambda': 1.959143884962323e-07, 'is_unbalance': False}. Best is trial 84 with value: 0.7872527447481852.\n",
      "[I 2025-08-31 12:20:19,050] Trial 131 finished with value: 0.786835619498404 and parameters: {'n_estimators': 572, 'num_leaves': 27, 'min_child_samples': 1827, 'colsample_bytree': 0.5274570512137705, 'reg_alpha': 0.9766493543955823, 'reg_lambda': 4.517734485409947e-08, 'is_unbalance': False}. Best is trial 84 with value: 0.7872527447481852.\n",
      "[I 2025-08-31 12:20:39,689] Trial 132 finished with value: 0.7863736235125931 and parameters: {'n_estimators': 584, 'num_leaves': 27, 'min_child_samples': 1959, 'colsample_bytree': 0.5496489426274278, 'reg_alpha': 0.5044551834716506, 'reg_lambda': 2.3716788012024558e-08, 'is_unbalance': False}. Best is trial 84 with value: 0.7872527447481852.\n",
      "[I 2025-08-31 12:20:59,821] Trial 133 finished with value: 0.78651746223187 and parameters: {'n_estimators': 559, 'num_leaves': 25, 'min_child_samples': 1780, 'colsample_bytree': 0.6406404428238278, 'reg_alpha': 0.2018804674808318, 'reg_lambda': 1.201602698556441e-07, 'is_unbalance': False}. Best is trial 84 with value: 0.7872527447481852.\n",
      "[I 2025-08-31 12:21:21,024] Trial 134 finished with value: 0.7862551681706279 and parameters: {'n_estimators': 539, 'num_leaves': 30, 'min_child_samples': 883, 'colsample_bytree': 0.6162878116084274, 'reg_alpha': 0.3680133292899425, 'reg_lambda': 7.238663411980353e-08, 'is_unbalance': False}. Best is trial 84 with value: 0.7872527447481852.\n",
      "[I 2025-08-31 12:21:41,538] Trial 135 finished with value: 0.7858151823162809 and parameters: {'n_estimators': 567, 'num_leaves': 45, 'min_child_samples': 1719, 'colsample_bytree': 0.5939009723536053, 'reg_alpha': 0.9839636373880509, 'reg_lambda': 4.7270201418100146e-07, 'is_unbalance': False}. Best is trial 84 with value: 0.7872527447481852.\n",
      "[I 2025-08-31 12:22:01,824] Trial 136 finished with value: 0.7863187374668545 and parameters: {'n_estimators': 545, 'num_leaves': 29, 'min_child_samples': 1885, 'colsample_bytree': 0.5843758255435343, 'reg_alpha': 0.015123616665173215, 'reg_lambda': 1.5125485988135402e-08, 'is_unbalance': False}. Best is trial 84 with value: 0.7872527447481852.\n",
      "[I 2025-08-31 12:22:23,287] Trial 137 finished with value: 0.7860008969954946 and parameters: {'n_estimators': 553, 'num_leaves': 26, 'min_child_samples': 1592, 'colsample_bytree': 0.7995070814793027, 'reg_alpha': 0.12297767336549947, 'reg_lambda': 3.498637860274624e-08, 'is_unbalance': False}. Best is trial 84 with value: 0.7872527447481852.\n",
      "[I 2025-08-31 12:22:42,820] Trial 138 finished with value: 0.7865094530389436 and parameters: {'n_estimators': 587, 'num_leaves': 18, 'min_child_samples': 1825, 'colsample_bytree': 0.5632751190368367, 'reg_alpha': 0.4798877366742348, 'reg_lambda': 5.465968527195265e-08, 'is_unbalance': False}. Best is trial 84 with value: 0.7872527447481852.\n",
      "[I 2025-08-31 12:23:05,601] Trial 139 finished with value: 0.7868861856299904 and parameters: {'n_estimators': 516, 'num_leaves': 28, 'min_child_samples': 1924, 'colsample_bytree': 0.5423301884068334, 'reg_alpha': 0.0030200413163097035, 'reg_lambda': 1.1821857094941609e-07, 'is_unbalance': False}. Best is trial 84 with value: 0.7872527447481852.\n",
      "[I 2025-08-31 12:23:24,682] Trial 140 finished with value: 0.7864131742757985 and parameters: {'n_estimators': 512, 'num_leaves': 22, 'min_child_samples': 1914, 'colsample_bytree': 0.5372543153706694, 'reg_alpha': 0.0015033760280785881, 'reg_lambda': 1.6830459187254017e-06, 'is_unbalance': False}. Best is trial 84 with value: 0.7872527447481852.\n",
      "[I 2025-08-31 12:23:46,603] Trial 141 finished with value: 0.7867245041729456 and parameters: {'n_estimators': 536, 'num_leaves': 28, 'min_child_samples': 1969, 'colsample_bytree': 0.6590207310887525, 'reg_alpha': 0.0031459631680093056, 'reg_lambda': 1.5772055382852878e-07, 'is_unbalance': False}. Best is trial 84 with value: 0.7872527447481852.\n",
      "[I 2025-08-31 12:24:06,719] Trial 142 finished with value: 0.7866128758648714 and parameters: {'n_estimators': 523, 'num_leaves': 30, 'min_child_samples': 1866, 'colsample_bytree': 0.5188941114862151, 'reg_alpha': 0.0021669901779953716, 'reg_lambda': 5.221425931066192e-06, 'is_unbalance': False}. Best is trial 84 with value: 0.7872527447481852.\n",
      "[I 2025-08-31 12:24:28,802] Trial 143 finished with value: 0.7861498216301044 and parameters: {'n_estimators': 491, 'num_leaves': 62, 'min_child_samples': 1923, 'colsample_bytree': 0.5531189070261284, 'reg_alpha': 0.0011891491981237598, 'reg_lambda': 9.800666441153405e-08, 'is_unbalance': False}. Best is trial 84 with value: 0.7872527447481852.\n",
      "[I 2025-08-31 12:24:49,455] Trial 144 finished with value: 0.7866722555219796 and parameters: {'n_estimators': 518, 'num_leaves': 24, 'min_child_samples': 1775, 'colsample_bytree': 0.572225028494542, 'reg_alpha': 0.005614170449152272, 'reg_lambda': 2.540981202298716e-07, 'is_unbalance': False}. Best is trial 84 with value: 0.7872527447481852.\n",
      "[I 2025-08-31 12:25:10,951] Trial 145 finished with value: 0.7869778531012097 and parameters: {'n_estimators': 577, 'num_leaves': 26, 'min_child_samples': 1998, 'colsample_bytree': 0.5442243972024968, 'reg_alpha': 0.003302654061324656, 'reg_lambda': 5.593139520566377e-08, 'is_unbalance': False}. Best is trial 84 with value: 0.7872527447481852.\n",
      "[I 2025-08-31 12:25:32,484] Trial 146 finished with value: 0.7866796855309748 and parameters: {'n_estimators': 576, 'num_leaves': 26, 'min_child_samples': 1990, 'colsample_bytree': 0.5428110259597357, 'reg_alpha': 0.0028303932426429848, 'reg_lambda': 7.641801856843956e-08, 'is_unbalance': False}. Best is trial 84 with value: 0.7872527447481852.\n",
      "[I 2025-08-31 12:25:54,167] Trial 147 finished with value: 0.7868590901267459 and parameters: {'n_estimators': 592, 'num_leaves': 25, 'min_child_samples': 1931, 'colsample_bytree': 0.5323331872679914, 'reg_alpha': 0.023260315830357856, 'reg_lambda': 0.2180918270542894, 'is_unbalance': False}. Best is trial 84 with value: 0.7872527447481852.\n",
      "[I 2025-08-31 12:26:15,550] Trial 148 finished with value: 0.7866884000873369 and parameters: {'n_estimators': 504, 'num_leaves': 28, 'min_child_samples': 1841, 'colsample_bytree': 0.5601365828373, 'reg_alpha': 0.004021162346602038, 'reg_lambda': 1.2461491239728398e-07, 'is_unbalance': False}. Best is trial 84 with value: 0.7872527447481852.\n",
      "[I 2025-08-31 12:26:35,566] Trial 149 finished with value: 0.786474137590787 and parameters: {'n_estimators': 525, 'num_leaves': 21, 'min_child_samples': 1891, 'colsample_bytree': 0.5116936056014536, 'reg_alpha': 0.0006203667960181287, 'reg_lambda': 4.5957490257836945e-08, 'is_unbalance': False}. Best is trial 84 with value: 0.7872527447481852.\n",
      "[I 2025-08-31 12:26:54,649] Trial 150 finished with value: 0.7856467307945704 and parameters: {'n_estimators': 533, 'num_leaves': 31, 'min_child_samples': 341, 'colsample_bytree': 0.548661246354661, 'reg_alpha': 0.013190424827842974, 'reg_lambda': 2.984038710498429e-07, 'is_unbalance': False}. Best is trial 84 with value: 0.7872527447481852.\n",
      "[I 2025-08-31 12:27:16,623] Trial 151 finished with value: 0.7867262912747143 and parameters: {'n_estimators': 596, 'num_leaves': 25, 'min_child_samples': 1946, 'colsample_bytree': 0.5289794911544803, 'reg_alpha': 0.01909925445930385, 'reg_lambda': 0.1836672737263225, 'is_unbalance': False}. Best is trial 84 with value: 0.7872527447481852.\n",
      "[I 2025-08-31 12:27:36,798] Trial 152 finished with value: 0.7866164420128277 and parameters: {'n_estimators': 592, 'num_leaves': 23, 'min_child_samples': 1949, 'colsample_bytree': 0.5258268174371941, 'reg_alpha': 0.02406276997124016, 'reg_lambda': 0.18585774400361058, 'is_unbalance': False}. Best is trial 84 with value: 0.7872527447481852.\n",
      "[I 2025-08-31 12:27:57,245] Trial 153 finished with value: 0.7869756559681124 and parameters: {'n_estimators': 583, 'num_leaves': 27, 'min_child_samples': 1899, 'colsample_bytree': 0.5376212186980156, 'reg_alpha': 0.008064747188584628, 'reg_lambda': 0.022127553156048953, 'is_unbalance': False}. Best is trial 84 with value: 0.7872527447481852.\n",
      "[I 2025-08-31 12:28:17,733] Trial 154 finished with value: 0.786413410099518 and parameters: {'n_estimators': 579, 'num_leaves': 27, 'min_child_samples': 1865, 'colsample_bytree': 0.5426396289897433, 'reg_alpha': 0.007470679919202939, 'reg_lambda': 2.0119209626688494e-07, 'is_unbalance': False}. Best is trial 84 with value: 0.7872527447481852.\n",
      "[I 2025-08-31 12:28:21,881] Trial 155 finished with value: 0.6922679177847267 and parameters: {'n_estimators': 557, 'num_leaves': 28, 'min_child_samples': 1814, 'colsample_bytree': 0.566879115962822, 'reg_alpha': 0.002229395711580674, 'reg_lambda': 0.07608459583623345, 'is_unbalance': True}. Best is trial 84 with value: 0.7872527447481852.\n",
      "[I 2025-08-31 12:28:42,364] Trial 156 finished with value: 0.7865921797091036 and parameters: {'n_estimators': 547, 'num_leaves': 29, 'min_child_samples': 1998, 'colsample_bytree': 0.5569768170824875, 'reg_alpha': 0.009540522114879194, 'reg_lambda': 0.009485147101852335, 'is_unbalance': False}. Best is trial 84 with value: 0.7872527447481852.\n",
      "[I 2025-08-31 12:29:02,020] Trial 157 finished with value: 0.7862597661576662 and parameters: {'n_estimators': 571, 'num_leaves': 26, 'min_child_samples': 1898, 'colsample_bytree': 0.5783354690909, 'reg_alpha': 0.004826870124919092, 'reg_lambda': 6.336568137319537e-08, 'is_unbalance': False}. Best is trial 84 with value: 0.7872527447481852.\n",
      "[I 2025-08-31 12:29:21,886] Trial 158 finished with value: 0.7867337483302432 and parameters: {'n_estimators': 565, 'num_leaves': 24, 'min_child_samples': 1844, 'colsample_bytree': 0.5427781920196479, 'reg_alpha': 0.003371545365367913, 'reg_lambda': 0.021382163157453626, 'is_unbalance': False}. Best is trial 84 with value: 0.7872527447481852.\n",
      "[I 2025-08-31 12:29:42,225] Trial 159 finished with value: 0.7865929474219086 and parameters: {'n_estimators': 581, 'num_leaves': 30, 'min_child_samples': 1049, 'colsample_bytree': 0.5137090188896591, 'reg_alpha': 0.03844902434460626, 'reg_lambda': 2.695549700608054e-08, 'is_unbalance': False}. Best is trial 84 with value: 0.7872527447481852.\n",
      "[I 2025-08-31 12:30:02,718] Trial 160 finished with value: 0.7867997283498868 and parameters: {'n_estimators': 484, 'num_leaves': 26, 'min_child_samples': 1176, 'colsample_bytree': 0.5345485136368036, 'reg_alpha': 0.00615452983592272, 'reg_lambda': 8.376934946288688e-08, 'is_unbalance': False}. Best is trial 84 with value: 0.7872527447481852.\n",
      "[I 2025-08-31 12:30:24,439] Trial 161 finished with value: 0.786707604195058 and parameters: {'n_estimators': 589, 'num_leaves': 24, 'min_child_samples': 1931, 'colsample_bytree': 0.5356666312036191, 'reg_alpha': 0.012473358497918708, 'reg_lambda': 0.5035116338943495, 'is_unbalance': False}. Best is trial 84 with value: 0.7872527447481852.\n",
      "[I 2025-08-31 12:30:45,783] Trial 162 finished with value: 0.7861402090345807 and parameters: {'n_estimators': 598, 'num_leaves': 25, 'min_child_samples': 1964, 'colsample_bytree': 0.7596272689780296, 'reg_alpha': 0.0598381948331872, 'reg_lambda': 0.006043263059865302, 'is_unbalance': False}. Best is trial 84 with value: 0.7872527447481852.\n",
      "[I 2025-08-31 12:31:06,298] Trial 163 finished with value: 0.7869350658788247 and parameters: {'n_estimators': 512, 'num_leaves': 27, 'min_child_samples': 1895, 'colsample_bytree': 0.5214624875033559, 'reg_alpha': 0.030342175942130265, 'reg_lambda': 1.3024149179311454e-05, 'is_unbalance': False}. Best is trial 84 with value: 0.7872527447481852.\n",
      "[I 2025-08-31 12:31:27,577] Trial 164 finished with value: 0.7868842543071646 and parameters: {'n_estimators': 531, 'num_leaves': 27, 'min_child_samples': 1807, 'colsample_bytree': 0.5037846690202246, 'reg_alpha': 0.08827348524042135, 'reg_lambda': 2.3155591817682648e-06, 'is_unbalance': False}. Best is trial 84 with value: 0.7872527447481852.\n",
      "[I 2025-08-31 12:31:48,312] Trial 165 finished with value: 0.7868814089482844 and parameters: {'n_estimators': 514, 'num_leaves': 27, 'min_child_samples': 1804, 'colsample_bytree': 0.5203023227353613, 'reg_alpha': 0.10109694436225858, 'reg_lambda': 1.334827309184198e-06, 'is_unbalance': False}. Best is trial 84 with value: 0.7872527447481852.\n",
      "[I 2025-08-31 12:32:07,127] Trial 166 finished with value: 0.7867672330862311 and parameters: {'n_estimators': 513, 'num_leaves': 29, 'min_child_samples': 1738, 'colsample_bytree': 0.5055475107601874, 'reg_alpha': 0.0787409372340398, 'reg_lambda': 2.2527660230722938e-06, 'is_unbalance': False}. Best is trial 84 with value: 0.7872527447481852.\n",
      "[I 2025-08-31 12:32:28,170] Trial 167 finished with value: 0.7869926069277386 and parameters: {'n_estimators': 532, 'num_leaves': 28, 'min_child_samples': 1884, 'colsample_bytree': 0.5205257102383828, 'reg_alpha': 0.05032361425020019, 'reg_lambda': 1.1439282660914867e-05, 'is_unbalance': False}. Best is trial 84 with value: 0.7872527447481852.\n",
      "[I 2025-08-31 12:32:47,509] Trial 168 finished with value: 0.7866454342086708 and parameters: {'n_estimators': 503, 'num_leaves': 28, 'min_child_samples': 683, 'colsample_bytree': 0.5209036268009483, 'reg_alpha': 0.030254136491847668, 'reg_lambda': 9.76017643725222e-06, 'is_unbalance': False}. Best is trial 84 with value: 0.7872527447481852.\n",
      "[I 2025-08-31 12:33:07,611] Trial 169 finished with value: 0.7870433838190678 and parameters: {'n_estimators': 530, 'num_leaves': 32, 'min_child_samples': 1880, 'colsample_bytree': 0.5016304576460002, 'reg_alpha': 0.04374879278501391, 'reg_lambda': 9.63637598032336e-07, 'is_unbalance': False}. Best is trial 84 with value: 0.7872527447481852.\n",
      "[I 2025-08-31 12:33:27,340] Trial 170 finished with value: 0.7866242912983418 and parameters: {'n_estimators': 531, 'num_leaves': 33, 'min_child_samples': 1886, 'colsample_bytree': 0.5025477716952637, 'reg_alpha': 0.05008597220672555, 'reg_lambda': 3.975220431008638e-06, 'is_unbalance': False}. Best is trial 84 with value: 0.7872527447481852.\n",
      "[I 2025-08-31 12:33:48,608] Trial 171 finished with value: 0.7872767234198117 and parameters: {'n_estimators': 517, 'num_leaves': 30, 'min_child_samples': 1809, 'colsample_bytree': 0.5003457920461781, 'reg_alpha': 0.03898742222400945, 'reg_lambda': 4.034491655999917e-05, 'is_unbalance': False}. Best is trial 171 with value: 0.7872767234198117.\n",
      "[I 2025-08-31 12:34:09,207] Trial 172 finished with value: 0.7866127033306406 and parameters: {'n_estimators': 517, 'num_leaves': 32, 'min_child_samples': 1808, 'colsample_bytree': 0.5009471224169434, 'reg_alpha': 0.052339821787323736, 'reg_lambda': 2.4508295720094103e-05, 'is_unbalance': False}. Best is trial 171 with value: 0.7872767234198117.\n",
      "[I 2025-08-31 12:34:30,041] Trial 173 finished with value: 0.7868260035085037 and parameters: {'n_estimators': 526, 'num_leaves': 30, 'min_child_samples': 1885, 'colsample_bytree': 0.5149275150455987, 'reg_alpha': 0.035842297409709366, 'reg_lambda': 2.900368588960322e-05, 'is_unbalance': False}. Best is trial 171 with value: 0.7872767234198117.\n",
      "[I 2025-08-31 12:34:50,400] Trial 174 finished with value: 0.7864624131313476 and parameters: {'n_estimators': 510, 'num_leaves': 29, 'min_child_samples': 1820, 'colsample_bytree': 0.5212761714990256, 'reg_alpha': 0.08328949235846339, 'reg_lambda': 7.301877949195397e-06, 'is_unbalance': False}. Best is trial 171 with value: 0.7872767234198117.\n",
      "[I 2025-08-31 12:35:10,657] Trial 175 finished with value: 0.7873202076289678 and parameters: {'n_estimators': 540, 'num_leaves': 27, 'min_child_samples': 1857, 'colsample_bytree': 0.5002287019819426, 'reg_alpha': 0.019998333098629646, 'reg_lambda': 2.6663467952723607e-06, 'is_unbalance': False}. Best is trial 175 with value: 0.7873202076289678.\n",
      "[I 2025-08-31 12:35:31,823] Trial 176 finished with value: 0.7870274860481182 and parameters: {'n_estimators': 539, 'num_leaves': 28, 'min_child_samples': 1904, 'colsample_bytree': 0.517036747087384, 'reg_alpha': 0.018312515288833514, 'reg_lambda': 4.4479148911772276e-05, 'is_unbalance': False}. Best is trial 175 with value: 0.7873202076289678.\n",
      "[I 2025-08-31 12:35:51,959] Trial 177 finished with value: 0.7870801684636548 and parameters: {'n_estimators': 543, 'num_leaves': 28, 'min_child_samples': 1862, 'colsample_bytree': 0.5119459322477152, 'reg_alpha': 0.017679218346245043, 'reg_lambda': 5.682949756555855e-05, 'is_unbalance': False}. Best is trial 175 with value: 0.7873202076289678.\n",
      "[I 2025-08-31 12:36:10,537] Trial 178 finished with value: 0.7867014232794844 and parameters: {'n_estimators': 539, 'num_leaves': 29, 'min_child_samples': 1918, 'colsample_bytree': 0.5107318613954641, 'reg_alpha': 0.015878667014383, 'reg_lambda': 2.4928977543983748e-05, 'is_unbalance': False}. Best is trial 175 with value: 0.7873202076289678.\n",
      "[I 2025-08-31 12:36:32,248] Trial 179 finished with value: 0.7869426566387295 and parameters: {'n_estimators': 522, 'num_leaves': 28, 'min_child_samples': 1865, 'colsample_bytree': 0.5115710834738317, 'reg_alpha': 0.02064779027248703, 'reg_lambda': 4.0117792489402886e-05, 'is_unbalance': False}. Best is trial 175 with value: 0.7873202076289678.\n",
      "[I 2025-08-31 12:36:36,605] Trial 180 finished with value: 0.696250430381025 and parameters: {'n_estimators': 539, 'num_leaves': 51, 'min_child_samples': 543, 'colsample_bytree': 0.5014606724023457, 'reg_alpha': 0.017926590047065483, 'reg_lambda': 5.037791458631575e-05, 'is_unbalance': True}. Best is trial 175 with value: 0.7873202076289678.\n",
      "[I 2025-08-31 12:36:56,857] Trial 181 finished with value: 0.7872286846693999 and parameters: {'n_estimators': 520, 'num_leaves': 26, 'min_child_samples': 1860, 'colsample_bytree': 0.5138499300007896, 'reg_alpha': 0.025378426160037673, 'reg_lambda': 1.5589217036894515e-05, 'is_unbalance': False}. Best is trial 175 with value: 0.7873202076289678.\n",
      "[I 2025-08-31 12:37:12,854] Trial 182 finished with value: 0.7861198714543829 and parameters: {'n_estimators': 343, 'num_leaves': 26, 'min_child_samples': 1855, 'colsample_bytree': 0.5125719243962576, 'reg_alpha': 0.032791557958433235, 'reg_lambda': 4.646568386214817e-05, 'is_unbalance': False}. Best is trial 175 with value: 0.7873202076289678.\n",
      "[I 2025-08-31 12:37:31,450] Trial 183 finished with value: 0.7863762209792984 and parameters: {'n_estimators': 520, 'num_leaves': 30, 'min_child_samples': 1873, 'colsample_bytree': 0.5146397207684027, 'reg_alpha': 0.020547560384790733, 'reg_lambda': 1.895890725421447e-05, 'is_unbalance': False}. Best is trial 175 with value: 0.7873202076289678.\n",
      "[I 2025-08-31 12:37:51,786] Trial 184 finished with value: 0.7865516499031294 and parameters: {'n_estimators': 498, 'num_leaves': 28, 'min_child_samples': 1905, 'colsample_bytree': 0.5246369694342292, 'reg_alpha': 0.011314667568873147, 'reg_lambda': 0.00011602451627822275, 'is_unbalance': False}. Best is trial 175 with value: 0.7873202076289678.\n",
      "[I 2025-08-31 12:38:11,064] Trial 185 finished with value: 0.7867585413101723 and parameters: {'n_estimators': 530, 'num_leaves': 25, 'min_child_samples': 1856, 'colsample_bytree': 0.5103570821211594, 'reg_alpha': 0.030041989423707678, 'reg_lambda': 1.325866572071904e-05, 'is_unbalance': False}. Best is trial 175 with value: 0.7873202076289678.\n",
      "[I 2025-08-31 12:38:32,251] Trial 186 finished with value: 0.7868022568177202 and parameters: {'n_estimators': 508, 'num_leaves': 26, 'min_child_samples': 1911, 'colsample_bytree': 0.5285785772000304, 'reg_alpha': 0.04139685200347105, 'reg_lambda': 3.528842858136876e-05, 'is_unbalance': False}. Best is trial 175 with value: 0.7873202076289678.\n",
      "[I 2025-08-31 12:38:53,102] Trial 187 finished with value: 0.7868965309281162 and parameters: {'n_estimators': 520, 'num_leaves': 27, 'min_child_samples': 1763, 'colsample_bytree': 0.5205952443064625, 'reg_alpha': 0.00844173637958223, 'reg_lambda': 9.385283037309627e-05, 'is_unbalance': False}. Best is trial 175 with value: 0.7873202076289678.\n",
      "[I 2025-08-31 12:39:13,850] Trial 188 finished with value: 0.7868407209597631 and parameters: {'n_estimators': 545, 'num_leaves': 27, 'min_child_samples': 1788, 'colsample_bytree': 0.5005472852778111, 'reg_alpha': 0.008778425795951816, 'reg_lambda': 6.13751891614074e-05, 'is_unbalance': False}. Best is trial 175 with value: 0.7873202076289678.\n",
      "[I 2025-08-31 12:39:35,252] Trial 189 finished with value: 0.7866355807868455 and parameters: {'n_estimators': 535, 'num_leaves': 31, 'min_child_samples': 1744, 'colsample_bytree': 0.5190105815541396, 'reg_alpha': 0.01680514426268368, 'reg_lambda': 9.298995766201313e-05, 'is_unbalance': False}. Best is trial 175 with value: 0.7873202076289678.\n",
      "[I 2025-08-31 12:39:54,451] Trial 190 finished with value: 0.7861251785836616 and parameters: {'n_estimators': 523, 'num_leaves': 27, 'min_child_samples': 1837, 'colsample_bytree': 0.5313842603464918, 'reg_alpha': 0.021251086362027317, 'reg_lambda': 1.5572399192484057e-05, 'is_unbalance': False}. Best is trial 175 with value: 0.7873202076289678.\n",
      "[I 2025-08-31 12:40:14,651] Trial 191 finished with value: 0.7865411046525363 and parameters: {'n_estimators': 518, 'num_leaves': 29, 'min_child_samples': 1891, 'colsample_bytree': 0.5001039250353674, 'reg_alpha': 0.007080465306855368, 'reg_lambda': 4.123306388361297e-05, 'is_unbalance': False}. Best is trial 175 with value: 0.7873202076289678.\n",
      "[I 2025-08-31 12:40:36,970] Trial 192 finished with value: 0.7858933990303321 and parameters: {'n_estimators': 509, 'num_leaves': 28, 'min_child_samples': 1857, 'colsample_bytree': 0.89098774254871, 'reg_alpha': 0.05438511667725348, 'reg_lambda': 6.750129569278302e-05, 'is_unbalance': False}. Best is trial 175 with value: 0.7873202076289678.\n",
      "[I 2025-08-31 12:40:57,367] Trial 193 finished with value: 0.7868128696165567 and parameters: {'n_estimators': 527, 'num_leaves': 26, 'min_child_samples': 1935, 'colsample_bytree': 0.5130942477952075, 'reg_alpha': 0.012625573724787391, 'reg_lambda': 1.1202939208413525e-05, 'is_unbalance': False}. Best is trial 175 with value: 0.7873202076289678.\n",
      "[I 2025-08-31 12:41:18,583] Trial 194 finished with value: 0.7866291547450635 and parameters: {'n_estimators': 550, 'num_leaves': 25, 'min_child_samples': 1887, 'colsample_bytree': 0.5379551364517159, 'reg_alpha': 0.026080546614866394, 'reg_lambda': 8.337715219527314e-06, 'is_unbalance': False}. Best is trial 175 with value: 0.7873202076289678.\n",
      "[I 2025-08-31 12:41:38,749] Trial 195 finished with value: 0.7864753817821628 and parameters: {'n_estimators': 497, 'num_leaves': 28, 'min_child_samples': 1775, 'colsample_bytree': 0.5228942869743045, 'reg_alpha': 0.03731098846834095, 'reg_lambda': 0.00014352241860863589, 'is_unbalance': False}. Best is trial 175 with value: 0.7873202076289678.\n",
      "[I 2025-08-31 12:41:59,266] Trial 196 finished with value: 0.7868397541884202 and parameters: {'n_estimators': 536, 'num_leaves': 29, 'min_child_samples': 1979, 'colsample_bytree': 0.51081408563961, 'reg_alpha': 0.0017057027539290445, 'reg_lambda': 5.261145445557285e-06, 'is_unbalance': False}. Best is trial 175 with value: 0.7873202076289678.\n",
      "[I 2025-08-31 12:42:19,815] Trial 197 finished with value: 0.7865292334239723 and parameters: {'n_estimators': 519, 'num_leaves': 31, 'min_child_samples': 2000, 'colsample_bytree': 0.5343181603230889, 'reg_alpha': 0.015681052238700626, 'reg_lambda': 0.0002356131086858814, 'is_unbalance': False}. Best is trial 175 with value: 0.7873202076289678.\n",
      "[I 2025-08-31 12:42:40,938] Trial 198 finished with value: 0.786512060805978 and parameters: {'n_estimators': 542, 'num_leaves': 26, 'min_child_samples': 1835, 'colsample_bytree': 0.5229598652125915, 'reg_alpha': 0.005553558913225922, 'reg_lambda': 1.9441226406190222e-05, 'is_unbalance': False}. Best is trial 175 with value: 0.7873202076289678.\n",
      "[I 2025-08-31 12:43:02,022] Trial 199 finished with value: 0.7866522881218161 and parameters: {'n_estimators': 504, 'num_leaves': 27, 'min_child_samples': 1935, 'colsample_bytree': 0.5450025897443317, 'reg_alpha': 0.010326184968064213, 'reg_lambda': 7.637391581025282e-05, 'is_unbalance': False}. Best is trial 175 with value: 0.7873202076289678.\n"
     ]
    }
   ],
   "source": [
    "study = optuna.create_study(direction='maximize')\n",
    "study.optimize(lambda trial: objective_lgbm(trial, X_train, y_train, cv=cv), n_trials=200)"
   ]
  },
  {
   "cell_type": "code",
   "execution_count": 22,
   "id": "7053c549",
   "metadata": {},
   "outputs": [
    {
     "data": {
      "text/plain": [
       "{'n_estimators': 540,\n",
       " 'num_leaves': 27,\n",
       " 'min_child_samples': 1857,\n",
       " 'colsample_bytree': 0.5002287019819426,\n",
       " 'reg_alpha': 0.019998333098629646,\n",
       " 'reg_lambda': 2.6663467952723607e-06,\n",
       " 'is_unbalance': False}"
      ]
     },
     "execution_count": 22,
     "metadata": {},
     "output_type": "execute_result"
    }
   ],
   "source": [
    "study.best_params"
   ]
  },
  {
   "cell_type": "code",
   "execution_count": 23,
   "id": "155ff8b9",
   "metadata": {},
   "outputs": [
    {
     "data": {
      "application/vnd.plotly.v1+json": {
       "config": {
        "plotlyServerURL": "https://plot.ly"
       },
       "data": [
        {
         "mode": "markers",
         "name": "Objective Value",
         "type": "scatter",
         "x": [
          0,
          1,
          2,
          3,
          4,
          5,
          6,
          7,
          8,
          9,
          10,
          11,
          12,
          13,
          14,
          15,
          16,
          17,
          18,
          19,
          20,
          21,
          22,
          23,
          24,
          25,
          26,
          27,
          28,
          29,
          30,
          31,
          32,
          33,
          34,
          35,
          36,
          37,
          38,
          39,
          40,
          41,
          42,
          43,
          44,
          45,
          46,
          47,
          48,
          49,
          50,
          51,
          52,
          53,
          54,
          55,
          56,
          57,
          58,
          59,
          60,
          61,
          62,
          63,
          64,
          65,
          66,
          67,
          68,
          69,
          70,
          71,
          72,
          73,
          74,
          75,
          76,
          77,
          78,
          79,
          80,
          81,
          82,
          83,
          84,
          85,
          86,
          87,
          88,
          89,
          90,
          91,
          92,
          93,
          94,
          95,
          96,
          97,
          98,
          99,
          100,
          101,
          102,
          103,
          104,
          105,
          106,
          107,
          108,
          109,
          110,
          111,
          112,
          113,
          114,
          115,
          116,
          117,
          118,
          119,
          120,
          121,
          122,
          123,
          124,
          125,
          126,
          127,
          128,
          129,
          130,
          131,
          132,
          133,
          134,
          135,
          136,
          137,
          138,
          139,
          140,
          141,
          142,
          143,
          144,
          145,
          146,
          147,
          148,
          149,
          150,
          151,
          152,
          153,
          154,
          155,
          156,
          157,
          158,
          159,
          160,
          161,
          162,
          163,
          164,
          165,
          166,
          167,
          168,
          169,
          170,
          171,
          172,
          173,
          174,
          175,
          176,
          177,
          178,
          179,
          180,
          181,
          182,
          183,
          184,
          185,
          186,
          187,
          188,
          189,
          190,
          191,
          192,
          193,
          194,
          195,
          196,
          197,
          198,
          199
         ],
         "y": [
          0.7853194746682371,
          0.697387514456363,
          0.6987739072821759,
          0.7844816419873606,
          0.6977111483382236,
          0.698951243506414,
          0.784267911988621,
          0.6954065198478114,
          0.6947419490167754,
          0.6967168284189094,
          0.7864606633542485,
          0.7863506049846247,
          0.7864917735370189,
          0.7865085208372014,
          0.7862976932592056,
          0.7852022638481051,
          0.7861903644749314,
          0.7863022563863067,
          0.7858655541904406,
          0.7858242336042087,
          0.7865516324554676,
          0.7865003714636751,
          0.7861017835999212,
          0.7865085928381944,
          0.7862035745467828,
          0.7867371126473209,
          0.786747332234221,
          0.7860700004544271,
          0.7855492377111137,
          0.7865434538081424,
          0.7867978544260612,
          0.7865500437489314,
          0.7867708090015101,
          0.7865141350026041,
          0.7867628632609696,
          0.78657727583353,
          0.6957459962451302,
          0.7865575733011985,
          0.6939146340700508,
          0.7860473797616343,
          0.6950313293320881,
          0.7865433891793412,
          0.7867537456103528,
          0.7870596664254301,
          0.7863937926374746,
          0.7864192015065697,
          0.7867571292161251,
          0.6884424743632882,
          0.7851264624837102,
          0.7868665883940661,
          0.786838505479825,
          0.7865898376954406,
          0.7865724690272164,
          0.7865484426386321,
          0.7863572633251692,
          0.7871199780120594,
          0.7842553325566003,
          0.7865851362205933,
          0.6922909415080892,
          0.7867663850346707,
          0.7866865237114806,
          0.7865746379931872,
          0.786884385369147,
          0.7865471271669842,
          0.7863481303835227,
          0.7862545132043441,
          0.7867117703200284,
          0.786229889735011,
          0.7850705034756122,
          0.7859291076366182,
          0.7861512052206387,
          0.7866664197645531,
          0.7822868083600113,
          0.786537961703748,
          0.7866505990943173,
          0.7867100548885377,
          0.7864304196094373,
          0.6900345501955215,
          0.7859701749897379,
          0.7858422112838626,
          0.7845114184214788,
          0.7868714502380193,
          0.7862984721752677,
          0.7867806893091517,
          0.7872527447481852,
          0.7865476552157473,
          0.7865942794206903,
          0.7864297700991336,
          0.7865212983445666,
          0.6935170253479734,
          0.7865457386601318,
          0.7867694623540994,
          0.7864792929758482,
          0.7865961618022187,
          0.7866999895057367,
          0.786665442625248,
          0.7867223905170934,
          0.786076178333922,
          0.7866141909564031,
          0.7865157879869311,
          0.7866236502449437,
          0.7864135502836096,
          0.7870942223614726,
          0.7866229216509243,
          0.7865576411915464,
          0.7868850722838931,
          0.7870207783295642,
          0.7866676609019695,
          0.690616406585781,
          0.7866459616493889,
          0.7865121806874116,
          0.7867224568053525,
          0.787020499288952,
          0.7864969058679854,
          0.7863109150343709,
          0.7865820869047381,
          0.7866089005617988,
          0.7868620573948928,
          0.7864519116793046,
          0.7867862202094668,
          0.7864837221913847,
          0.7868979846781894,
          0.786816608337599,
          0.7867801253931199,
          0.7866136126393102,
          0.7868647577019208,
          0.784206672919713,
          0.7864860655757392,
          0.6913798694251811,
          0.7864742946738094,
          0.7867915786771187,
          0.786835619498404,
          0.7863736235125931,
          0.78651746223187,
          0.7862551681706279,
          0.7858151823162809,
          0.7863187374668545,
          0.7860008969954946,
          0.7865094530389436,
          0.7868861856299904,
          0.7864131742757985,
          0.7867245041729456,
          0.7866128758648714,
          0.7861498216301044,
          0.7866722555219796,
          0.7869778531012097,
          0.7866796855309748,
          0.7868590901267459,
          0.7866884000873369,
          0.786474137590787,
          0.7856467307945704,
          0.7867262912747143,
          0.7866164420128277,
          0.7869756559681124,
          0.786413410099518,
          0.6922679177847267,
          0.7865921797091036,
          0.7862597661576662,
          0.7867337483302432,
          0.7865929474219086,
          0.7867997283498868,
          0.786707604195058,
          0.7861402090345807,
          0.7869350658788247,
          0.7868842543071646,
          0.7868814089482844,
          0.7867672330862311,
          0.7869926069277386,
          0.7866454342086708,
          0.7870433838190678,
          0.7866242912983418,
          0.7872767234198117,
          0.7866127033306406,
          0.7868260035085037,
          0.7864624131313476,
          0.7873202076289678,
          0.7870274860481182,
          0.7870801684636548,
          0.7867014232794844,
          0.7869426566387295,
          0.696250430381025,
          0.7872286846693999,
          0.7861198714543829,
          0.7863762209792984,
          0.7865516499031294,
          0.7867585413101723,
          0.7868022568177202,
          0.7868965309281162,
          0.7868407209597631,
          0.7866355807868455,
          0.7861251785836616,
          0.7865411046525363,
          0.7858933990303321,
          0.7868128696165567,
          0.7866291547450635,
          0.7864753817821628,
          0.7868397541884202,
          0.7865292334239723,
          0.786512060805978,
          0.7866522881218161
         ]
        },
        {
         "mode": "lines",
         "name": "Best Value",
         "type": "scatter",
         "x": [
          0,
          1,
          2,
          3,
          4,
          5,
          6,
          7,
          8,
          9,
          10,
          11,
          12,
          13,
          14,
          15,
          16,
          17,
          18,
          19,
          20,
          21,
          22,
          23,
          24,
          25,
          26,
          27,
          28,
          29,
          30,
          31,
          32,
          33,
          34,
          35,
          36,
          37,
          38,
          39,
          40,
          41,
          42,
          43,
          44,
          45,
          46,
          47,
          48,
          49,
          50,
          51,
          52,
          53,
          54,
          55,
          56,
          57,
          58,
          59,
          60,
          61,
          62,
          63,
          64,
          65,
          66,
          67,
          68,
          69,
          70,
          71,
          72,
          73,
          74,
          75,
          76,
          77,
          78,
          79,
          80,
          81,
          82,
          83,
          84,
          85,
          86,
          87,
          88,
          89,
          90,
          91,
          92,
          93,
          94,
          95,
          96,
          97,
          98,
          99,
          100,
          101,
          102,
          103,
          104,
          105,
          106,
          107,
          108,
          109,
          110,
          111,
          112,
          113,
          114,
          115,
          116,
          117,
          118,
          119,
          120,
          121,
          122,
          123,
          124,
          125,
          126,
          127,
          128,
          129,
          130,
          131,
          132,
          133,
          134,
          135,
          136,
          137,
          138,
          139,
          140,
          141,
          142,
          143,
          144,
          145,
          146,
          147,
          148,
          149,
          150,
          151,
          152,
          153,
          154,
          155,
          156,
          157,
          158,
          159,
          160,
          161,
          162,
          163,
          164,
          165,
          166,
          167,
          168,
          169,
          170,
          171,
          172,
          173,
          174,
          175,
          176,
          177,
          178,
          179,
          180,
          181,
          182,
          183,
          184,
          185,
          186,
          187,
          188,
          189,
          190,
          191,
          192,
          193,
          194,
          195,
          196,
          197,
          198,
          199
         ],
         "y": [
          0.7853194746682371,
          0.7853194746682371,
          0.7853194746682371,
          0.7853194746682371,
          0.7853194746682371,
          0.7853194746682371,
          0.7853194746682371,
          0.7853194746682371,
          0.7853194746682371,
          0.7853194746682371,
          0.7864606633542485,
          0.7864606633542485,
          0.7864917735370189,
          0.7865085208372014,
          0.7865085208372014,
          0.7865085208372014,
          0.7865085208372014,
          0.7865085208372014,
          0.7865085208372014,
          0.7865085208372014,
          0.7865516324554676,
          0.7865516324554676,
          0.7865516324554676,
          0.7865516324554676,
          0.7865516324554676,
          0.7867371126473209,
          0.786747332234221,
          0.786747332234221,
          0.786747332234221,
          0.786747332234221,
          0.7867978544260612,
          0.7867978544260612,
          0.7867978544260612,
          0.7867978544260612,
          0.7867978544260612,
          0.7867978544260612,
          0.7867978544260612,
          0.7867978544260612,
          0.7867978544260612,
          0.7867978544260612,
          0.7867978544260612,
          0.7867978544260612,
          0.7867978544260612,
          0.7870596664254301,
          0.7870596664254301,
          0.7870596664254301,
          0.7870596664254301,
          0.7870596664254301,
          0.7870596664254301,
          0.7870596664254301,
          0.7870596664254301,
          0.7870596664254301,
          0.7870596664254301,
          0.7870596664254301,
          0.7870596664254301,
          0.7871199780120594,
          0.7871199780120594,
          0.7871199780120594,
          0.7871199780120594,
          0.7871199780120594,
          0.7871199780120594,
          0.7871199780120594,
          0.7871199780120594,
          0.7871199780120594,
          0.7871199780120594,
          0.7871199780120594,
          0.7871199780120594,
          0.7871199780120594,
          0.7871199780120594,
          0.7871199780120594,
          0.7871199780120594,
          0.7871199780120594,
          0.7871199780120594,
          0.7871199780120594,
          0.7871199780120594,
          0.7871199780120594,
          0.7871199780120594,
          0.7871199780120594,
          0.7871199780120594,
          0.7871199780120594,
          0.7871199780120594,
          0.7871199780120594,
          0.7871199780120594,
          0.7871199780120594,
          0.7872527447481852,
          0.7872527447481852,
          0.7872527447481852,
          0.7872527447481852,
          0.7872527447481852,
          0.7872527447481852,
          0.7872527447481852,
          0.7872527447481852,
          0.7872527447481852,
          0.7872527447481852,
          0.7872527447481852,
          0.7872527447481852,
          0.7872527447481852,
          0.7872527447481852,
          0.7872527447481852,
          0.7872527447481852,
          0.7872527447481852,
          0.7872527447481852,
          0.7872527447481852,
          0.7872527447481852,
          0.7872527447481852,
          0.7872527447481852,
          0.7872527447481852,
          0.7872527447481852,
          0.7872527447481852,
          0.7872527447481852,
          0.7872527447481852,
          0.7872527447481852,
          0.7872527447481852,
          0.7872527447481852,
          0.7872527447481852,
          0.7872527447481852,
          0.7872527447481852,
          0.7872527447481852,
          0.7872527447481852,
          0.7872527447481852,
          0.7872527447481852,
          0.7872527447481852,
          0.7872527447481852,
          0.7872527447481852,
          0.7872527447481852,
          0.7872527447481852,
          0.7872527447481852,
          0.7872527447481852,
          0.7872527447481852,
          0.7872527447481852,
          0.7872527447481852,
          0.7872527447481852,
          0.7872527447481852,
          0.7872527447481852,
          0.7872527447481852,
          0.7872527447481852,
          0.7872527447481852,
          0.7872527447481852,
          0.7872527447481852,
          0.7872527447481852,
          0.7872527447481852,
          0.7872527447481852,
          0.7872527447481852,
          0.7872527447481852,
          0.7872527447481852,
          0.7872527447481852,
          0.7872527447481852,
          0.7872527447481852,
          0.7872527447481852,
          0.7872527447481852,
          0.7872527447481852,
          0.7872527447481852,
          0.7872527447481852,
          0.7872527447481852,
          0.7872527447481852,
          0.7872527447481852,
          0.7872527447481852,
          0.7872527447481852,
          0.7872527447481852,
          0.7872527447481852,
          0.7872527447481852,
          0.7872527447481852,
          0.7872527447481852,
          0.7872527447481852,
          0.7872527447481852,
          0.7872527447481852,
          0.7872527447481852,
          0.7872527447481852,
          0.7872527447481852,
          0.7872527447481852,
          0.7872527447481852,
          0.7872767234198117,
          0.7872767234198117,
          0.7872767234198117,
          0.7872767234198117,
          0.7873202076289678,
          0.7873202076289678,
          0.7873202076289678,
          0.7873202076289678,
          0.7873202076289678,
          0.7873202076289678,
          0.7873202076289678,
          0.7873202076289678,
          0.7873202076289678,
          0.7873202076289678,
          0.7873202076289678,
          0.7873202076289678,
          0.7873202076289678,
          0.7873202076289678,
          0.7873202076289678,
          0.7873202076289678,
          0.7873202076289678,
          0.7873202076289678,
          0.7873202076289678,
          0.7873202076289678,
          0.7873202076289678,
          0.7873202076289678,
          0.7873202076289678,
          0.7873202076289678,
          0.7873202076289678
         ]
        },
        {
         "marker": {
          "color": "#cccccc"
         },
         "mode": "markers",
         "name": "Infeasible Trial",
         "showlegend": false,
         "type": "scatter",
         "x": [],
         "y": []
        }
       ],
       "layout": {
        "template": {
         "data": {
          "bar": [
           {
            "error_x": {
             "color": "#2a3f5f"
            },
            "error_y": {
             "color": "#2a3f5f"
            },
            "marker": {
             "line": {
              "color": "#E5ECF6",
              "width": 0.5
             },
             "pattern": {
              "fillmode": "overlay",
              "size": 10,
              "solidity": 0.2
             }
            },
            "type": "bar"
           }
          ],
          "barpolar": [
           {
            "marker": {
             "line": {
              "color": "#E5ECF6",
              "width": 0.5
             },
             "pattern": {
              "fillmode": "overlay",
              "size": 10,
              "solidity": 0.2
             }
            },
            "type": "barpolar"
           }
          ],
          "carpet": [
           {
            "aaxis": {
             "endlinecolor": "#2a3f5f",
             "gridcolor": "white",
             "linecolor": "white",
             "minorgridcolor": "white",
             "startlinecolor": "#2a3f5f"
            },
            "baxis": {
             "endlinecolor": "#2a3f5f",
             "gridcolor": "white",
             "linecolor": "white",
             "minorgridcolor": "white",
             "startlinecolor": "#2a3f5f"
            },
            "type": "carpet"
           }
          ],
          "choropleth": [
           {
            "colorbar": {
             "outlinewidth": 0,
             "ticks": ""
            },
            "type": "choropleth"
           }
          ],
          "contour": [
           {
            "colorbar": {
             "outlinewidth": 0,
             "ticks": ""
            },
            "colorscale": [
             [
              0,
              "#0d0887"
             ],
             [
              0.1111111111111111,
              "#46039f"
             ],
             [
              0.2222222222222222,
              "#7201a8"
             ],
             [
              0.3333333333333333,
              "#9c179e"
             ],
             [
              0.4444444444444444,
              "#bd3786"
             ],
             [
              0.5555555555555556,
              "#d8576b"
             ],
             [
              0.6666666666666666,
              "#ed7953"
             ],
             [
              0.7777777777777778,
              "#fb9f3a"
             ],
             [
              0.8888888888888888,
              "#fdca26"
             ],
             [
              1,
              "#f0f921"
             ]
            ],
            "type": "contour"
           }
          ],
          "contourcarpet": [
           {
            "colorbar": {
             "outlinewidth": 0,
             "ticks": ""
            },
            "type": "contourcarpet"
           }
          ],
          "heatmap": [
           {
            "colorbar": {
             "outlinewidth": 0,
             "ticks": ""
            },
            "colorscale": [
             [
              0,
              "#0d0887"
             ],
             [
              0.1111111111111111,
              "#46039f"
             ],
             [
              0.2222222222222222,
              "#7201a8"
             ],
             [
              0.3333333333333333,
              "#9c179e"
             ],
             [
              0.4444444444444444,
              "#bd3786"
             ],
             [
              0.5555555555555556,
              "#d8576b"
             ],
             [
              0.6666666666666666,
              "#ed7953"
             ],
             [
              0.7777777777777778,
              "#fb9f3a"
             ],
             [
              0.8888888888888888,
              "#fdca26"
             ],
             [
              1,
              "#f0f921"
             ]
            ],
            "type": "heatmap"
           }
          ],
          "histogram": [
           {
            "marker": {
             "pattern": {
              "fillmode": "overlay",
              "size": 10,
              "solidity": 0.2
             }
            },
            "type": "histogram"
           }
          ],
          "histogram2d": [
           {
            "colorbar": {
             "outlinewidth": 0,
             "ticks": ""
            },
            "colorscale": [
             [
              0,
              "#0d0887"
             ],
             [
              0.1111111111111111,
              "#46039f"
             ],
             [
              0.2222222222222222,
              "#7201a8"
             ],
             [
              0.3333333333333333,
              "#9c179e"
             ],
             [
              0.4444444444444444,
              "#bd3786"
             ],
             [
              0.5555555555555556,
              "#d8576b"
             ],
             [
              0.6666666666666666,
              "#ed7953"
             ],
             [
              0.7777777777777778,
              "#fb9f3a"
             ],
             [
              0.8888888888888888,
              "#fdca26"
             ],
             [
              1,
              "#f0f921"
             ]
            ],
            "type": "histogram2d"
           }
          ],
          "histogram2dcontour": [
           {
            "colorbar": {
             "outlinewidth": 0,
             "ticks": ""
            },
            "colorscale": [
             [
              0,
              "#0d0887"
             ],
             [
              0.1111111111111111,
              "#46039f"
             ],
             [
              0.2222222222222222,
              "#7201a8"
             ],
             [
              0.3333333333333333,
              "#9c179e"
             ],
             [
              0.4444444444444444,
              "#bd3786"
             ],
             [
              0.5555555555555556,
              "#d8576b"
             ],
             [
              0.6666666666666666,
              "#ed7953"
             ],
             [
              0.7777777777777778,
              "#fb9f3a"
             ],
             [
              0.8888888888888888,
              "#fdca26"
             ],
             [
              1,
              "#f0f921"
             ]
            ],
            "type": "histogram2dcontour"
           }
          ],
          "mesh3d": [
           {
            "colorbar": {
             "outlinewidth": 0,
             "ticks": ""
            },
            "type": "mesh3d"
           }
          ],
          "parcoords": [
           {
            "line": {
             "colorbar": {
              "outlinewidth": 0,
              "ticks": ""
             }
            },
            "type": "parcoords"
           }
          ],
          "pie": [
           {
            "automargin": true,
            "type": "pie"
           }
          ],
          "scatter": [
           {
            "fillpattern": {
             "fillmode": "overlay",
             "size": 10,
             "solidity": 0.2
            },
            "type": "scatter"
           }
          ],
          "scatter3d": [
           {
            "line": {
             "colorbar": {
              "outlinewidth": 0,
              "ticks": ""
             }
            },
            "marker": {
             "colorbar": {
              "outlinewidth": 0,
              "ticks": ""
             }
            },
            "type": "scatter3d"
           }
          ],
          "scattercarpet": [
           {
            "marker": {
             "colorbar": {
              "outlinewidth": 0,
              "ticks": ""
             }
            },
            "type": "scattercarpet"
           }
          ],
          "scattergeo": [
           {
            "marker": {
             "colorbar": {
              "outlinewidth": 0,
              "ticks": ""
             }
            },
            "type": "scattergeo"
           }
          ],
          "scattergl": [
           {
            "marker": {
             "colorbar": {
              "outlinewidth": 0,
              "ticks": ""
             }
            },
            "type": "scattergl"
           }
          ],
          "scattermap": [
           {
            "marker": {
             "colorbar": {
              "outlinewidth": 0,
              "ticks": ""
             }
            },
            "type": "scattermap"
           }
          ],
          "scattermapbox": [
           {
            "marker": {
             "colorbar": {
              "outlinewidth": 0,
              "ticks": ""
             }
            },
            "type": "scattermapbox"
           }
          ],
          "scatterpolar": [
           {
            "marker": {
             "colorbar": {
              "outlinewidth": 0,
              "ticks": ""
             }
            },
            "type": "scatterpolar"
           }
          ],
          "scatterpolargl": [
           {
            "marker": {
             "colorbar": {
              "outlinewidth": 0,
              "ticks": ""
             }
            },
            "type": "scatterpolargl"
           }
          ],
          "scatterternary": [
           {
            "marker": {
             "colorbar": {
              "outlinewidth": 0,
              "ticks": ""
             }
            },
            "type": "scatterternary"
           }
          ],
          "surface": [
           {
            "colorbar": {
             "outlinewidth": 0,
             "ticks": ""
            },
            "colorscale": [
             [
              0,
              "#0d0887"
             ],
             [
              0.1111111111111111,
              "#46039f"
             ],
             [
              0.2222222222222222,
              "#7201a8"
             ],
             [
              0.3333333333333333,
              "#9c179e"
             ],
             [
              0.4444444444444444,
              "#bd3786"
             ],
             [
              0.5555555555555556,
              "#d8576b"
             ],
             [
              0.6666666666666666,
              "#ed7953"
             ],
             [
              0.7777777777777778,
              "#fb9f3a"
             ],
             [
              0.8888888888888888,
              "#fdca26"
             ],
             [
              1,
              "#f0f921"
             ]
            ],
            "type": "surface"
           }
          ],
          "table": [
           {
            "cells": {
             "fill": {
              "color": "#EBF0F8"
             },
             "line": {
              "color": "white"
             }
            },
            "header": {
             "fill": {
              "color": "#C8D4E3"
             },
             "line": {
              "color": "white"
             }
            },
            "type": "table"
           }
          ]
         },
         "layout": {
          "annotationdefaults": {
           "arrowcolor": "#2a3f5f",
           "arrowhead": 0,
           "arrowwidth": 1
          },
          "autotypenumbers": "strict",
          "coloraxis": {
           "colorbar": {
            "outlinewidth": 0,
            "ticks": ""
           }
          },
          "colorscale": {
           "diverging": [
            [
             0,
             "#8e0152"
            ],
            [
             0.1,
             "#c51b7d"
            ],
            [
             0.2,
             "#de77ae"
            ],
            [
             0.3,
             "#f1b6da"
            ],
            [
             0.4,
             "#fde0ef"
            ],
            [
             0.5,
             "#f7f7f7"
            ],
            [
             0.6,
             "#e6f5d0"
            ],
            [
             0.7,
             "#b8e186"
            ],
            [
             0.8,
             "#7fbc41"
            ],
            [
             0.9,
             "#4d9221"
            ],
            [
             1,
             "#276419"
            ]
           ],
           "sequential": [
            [
             0,
             "#0d0887"
            ],
            [
             0.1111111111111111,
             "#46039f"
            ],
            [
             0.2222222222222222,
             "#7201a8"
            ],
            [
             0.3333333333333333,
             "#9c179e"
            ],
            [
             0.4444444444444444,
             "#bd3786"
            ],
            [
             0.5555555555555556,
             "#d8576b"
            ],
            [
             0.6666666666666666,
             "#ed7953"
            ],
            [
             0.7777777777777778,
             "#fb9f3a"
            ],
            [
             0.8888888888888888,
             "#fdca26"
            ],
            [
             1,
             "#f0f921"
            ]
           ],
           "sequentialminus": [
            [
             0,
             "#0d0887"
            ],
            [
             0.1111111111111111,
             "#46039f"
            ],
            [
             0.2222222222222222,
             "#7201a8"
            ],
            [
             0.3333333333333333,
             "#9c179e"
            ],
            [
             0.4444444444444444,
             "#bd3786"
            ],
            [
             0.5555555555555556,
             "#d8576b"
            ],
            [
             0.6666666666666666,
             "#ed7953"
            ],
            [
             0.7777777777777778,
             "#fb9f3a"
            ],
            [
             0.8888888888888888,
             "#fdca26"
            ],
            [
             1,
             "#f0f921"
            ]
           ]
          },
          "colorway": [
           "#636efa",
           "#EF553B",
           "#00cc96",
           "#ab63fa",
           "#FFA15A",
           "#19d3f3",
           "#FF6692",
           "#B6E880",
           "#FF97FF",
           "#FECB52"
          ],
          "font": {
           "color": "#2a3f5f"
          },
          "geo": {
           "bgcolor": "white",
           "lakecolor": "white",
           "landcolor": "#E5ECF6",
           "showlakes": true,
           "showland": true,
           "subunitcolor": "white"
          },
          "hoverlabel": {
           "align": "left"
          },
          "hovermode": "closest",
          "mapbox": {
           "style": "light"
          },
          "paper_bgcolor": "white",
          "plot_bgcolor": "#E5ECF6",
          "polar": {
           "angularaxis": {
            "gridcolor": "white",
            "linecolor": "white",
            "ticks": ""
           },
           "bgcolor": "#E5ECF6",
           "radialaxis": {
            "gridcolor": "white",
            "linecolor": "white",
            "ticks": ""
           }
          },
          "scene": {
           "xaxis": {
            "backgroundcolor": "#E5ECF6",
            "gridcolor": "white",
            "gridwidth": 2,
            "linecolor": "white",
            "showbackground": true,
            "ticks": "",
            "zerolinecolor": "white"
           },
           "yaxis": {
            "backgroundcolor": "#E5ECF6",
            "gridcolor": "white",
            "gridwidth": 2,
            "linecolor": "white",
            "showbackground": true,
            "ticks": "",
            "zerolinecolor": "white"
           },
           "zaxis": {
            "backgroundcolor": "#E5ECF6",
            "gridcolor": "white",
            "gridwidth": 2,
            "linecolor": "white",
            "showbackground": true,
            "ticks": "",
            "zerolinecolor": "white"
           }
          },
          "shapedefaults": {
           "line": {
            "color": "#2a3f5f"
           }
          },
          "ternary": {
           "aaxis": {
            "gridcolor": "white",
            "linecolor": "white",
            "ticks": ""
           },
           "baxis": {
            "gridcolor": "white",
            "linecolor": "white",
            "ticks": ""
           },
           "bgcolor": "#E5ECF6",
           "caxis": {
            "gridcolor": "white",
            "linecolor": "white",
            "ticks": ""
           }
          },
          "title": {
           "x": 0.05
          },
          "xaxis": {
           "automargin": true,
           "gridcolor": "white",
           "linecolor": "white",
           "ticks": "",
           "title": {
            "standoff": 15
           },
           "zerolinecolor": "white",
           "zerolinewidth": 2
          },
          "yaxis": {
           "automargin": true,
           "gridcolor": "white",
           "linecolor": "white",
           "ticks": "",
           "title": {
            "standoff": 15
           },
           "zerolinecolor": "white",
           "zerolinewidth": 2
          }
         }
        },
        "title": {
         "text": "Optimization History Plot"
        },
        "xaxis": {
         "title": {
          "text": "Trial"
         }
        },
        "yaxis": {
         "title": {
          "text": "Objective Value"
         }
        }
       }
      }
     },
     "metadata": {},
     "output_type": "display_data"
    }
   ],
   "source": [
    "fig = optuna.visualization.plot_optimization_history(study)\n",
    "show(fig)"
   ]
  },
  {
   "cell_type": "code",
   "execution_count": 24,
   "id": "f50955ee",
   "metadata": {},
   "outputs": [
    {
     "data": {
      "text/html": [
       "<div>\n",
       "<style scoped>\n",
       "    .dataframe tbody tr th:only-of-type {\n",
       "        vertical-align: middle;\n",
       "    }\n",
       "\n",
       "    .dataframe tbody tr th {\n",
       "        vertical-align: top;\n",
       "    }\n",
       "\n",
       "    .dataframe thead th {\n",
       "        text-align: right;\n",
       "    }\n",
       "</style>\n",
       "<table border=\"1\" class=\"dataframe\">\n",
       "  <thead>\n",
       "    <tr style=\"text-align: right;\">\n",
       "      <th></th>\n",
       "      <th>number</th>\n",
       "      <th>value</th>\n",
       "      <th>datetime_start</th>\n",
       "      <th>datetime_complete</th>\n",
       "      <th>duration</th>\n",
       "      <th>params_colsample_bytree</th>\n",
       "      <th>params_is_unbalance</th>\n",
       "      <th>params_min_child_samples</th>\n",
       "      <th>params_n_estimators</th>\n",
       "      <th>params_num_leaves</th>\n",
       "      <th>params_reg_alpha</th>\n",
       "      <th>params_reg_lambda</th>\n",
       "      <th>state</th>\n",
       "    </tr>\n",
       "  </thead>\n",
       "  <tbody>\n",
       "    <tr>\n",
       "      <th>84</th>\n",
       "      <td>84</td>\n",
       "      <td>0.787253</td>\n",
       "      <td>2025-08-31 12:04:43.955496</td>\n",
       "      <td>2025-08-31 12:05:04.557202</td>\n",
       "      <td>0 days 00:00:20.601706</td>\n",
       "      <td>0.553276</td>\n",
       "      <td>False</td>\n",
       "      <td>1858</td>\n",
       "      <td>429</td>\n",
       "      <td>31</td>\n",
       "      <td>0.000601</td>\n",
       "      <td>5.502241e-08</td>\n",
       "      <td>COMPLETE</td>\n",
       "    </tr>\n",
       "    <tr>\n",
       "      <th>171</th>\n",
       "      <td>171</td>\n",
       "      <td>0.787277</td>\n",
       "      <td>2025-08-31 12:33:27.340081</td>\n",
       "      <td>2025-08-31 12:33:48.608526</td>\n",
       "      <td>0 days 00:00:21.268445</td>\n",
       "      <td>0.500346</td>\n",
       "      <td>False</td>\n",
       "      <td>1809</td>\n",
       "      <td>517</td>\n",
       "      <td>30</td>\n",
       "      <td>0.038987</td>\n",
       "      <td>4.034492e-05</td>\n",
       "      <td>COMPLETE</td>\n",
       "    </tr>\n",
       "    <tr>\n",
       "      <th>175</th>\n",
       "      <td>175</td>\n",
       "      <td>0.787320</td>\n",
       "      <td>2025-08-31 12:34:50.400708</td>\n",
       "      <td>2025-08-31 12:35:10.657067</td>\n",
       "      <td>0 days 00:00:20.256359</td>\n",
       "      <td>0.500229</td>\n",
       "      <td>False</td>\n",
       "      <td>1857</td>\n",
       "      <td>540</td>\n",
       "      <td>27</td>\n",
       "      <td>0.019998</td>\n",
       "      <td>2.666347e-06</td>\n",
       "      <td>COMPLETE</td>\n",
       "    </tr>\n",
       "  </tbody>\n",
       "</table>\n",
       "</div>"
      ],
      "text/plain": [
       "     number     value             datetime_start          datetime_complete  \\\n",
       "84       84  0.787253 2025-08-31 12:04:43.955496 2025-08-31 12:05:04.557202   \n",
       "171     171  0.787277 2025-08-31 12:33:27.340081 2025-08-31 12:33:48.608526   \n",
       "175     175  0.787320 2025-08-31 12:34:50.400708 2025-08-31 12:35:10.657067   \n",
       "\n",
       "                  duration  params_colsample_bytree  params_is_unbalance  \\\n",
       "84  0 days 00:00:20.601706                 0.553276                False   \n",
       "171 0 days 00:00:21.268445                 0.500346                False   \n",
       "175 0 days 00:00:20.256359                 0.500229                False   \n",
       "\n",
       "     params_min_child_samples  params_n_estimators  params_num_leaves  \\\n",
       "84                       1858                  429                 31   \n",
       "171                      1809                  517                 30   \n",
       "175                      1857                  540                 27   \n",
       "\n",
       "     params_reg_alpha  params_reg_lambda     state  \n",
       "84           0.000601       5.502241e-08  COMPLETE  \n",
       "171          0.038987       4.034492e-05  COMPLETE  \n",
       "175          0.019998       2.666347e-06  COMPLETE  "
      ]
     },
     "execution_count": 24,
     "metadata": {},
     "output_type": "execute_result"
    }
   ],
   "source": [
    "study.trials_dataframe().iloc[[84, 171, 175]]"
   ]
  },
  {
   "cell_type": "code",
   "execution_count": 4,
   "id": "ba4e5df6",
   "metadata": {},
   "outputs": [],
   "source": [
    "best_params = {'n_estimators': 540,\n",
    "               'num_leaves': 27,\n",
    "               'min_child_samples': 1857,\n",
    "               'colsample_bytree': 0.5002287019819426,\n",
    "               'reg_alpha': 0.019998333098629646, \n",
    "               'reg_lambda': 2.6663467952723607e-06,\n",
    "               'is_unbalance': False}\n",
    "\n",
    "model = LGBMClassifier(\n",
    "    boosting_type='gbdt', \n",
    "    objective='binary', \n",
    "    learning_rate=0.05,\n",
    "    subsample_freq=1,\n",
    "    verbosity=-1, \n",
    "    importance_type='gain', \n",
    "    random_state=cfg.seed, \n",
    "    **best_params\n",
    ")"
   ]
  },
  {
   "cell_type": "code",
   "execution_count": 5,
   "id": "4ed0606a",
   "metadata": {},
   "outputs": [
    {
     "data": {
      "text/html": [
       "<style>#sk-container-id-1 {\n",
       "  /* Definition of color scheme common for light and dark mode */\n",
       "  --sklearn-color-text: black;\n",
       "  --sklearn-color-line: gray;\n",
       "  /* Definition of color scheme for unfitted estimators */\n",
       "  --sklearn-color-unfitted-level-0: #fff5e6;\n",
       "  --sklearn-color-unfitted-level-1: #f6e4d2;\n",
       "  --sklearn-color-unfitted-level-2: #ffe0b3;\n",
       "  --sklearn-color-unfitted-level-3: chocolate;\n",
       "  /* Definition of color scheme for fitted estimators */\n",
       "  --sklearn-color-fitted-level-0: #f0f8ff;\n",
       "  --sklearn-color-fitted-level-1: #d4ebff;\n",
       "  --sklearn-color-fitted-level-2: #b3dbfd;\n",
       "  --sklearn-color-fitted-level-3: cornflowerblue;\n",
       "\n",
       "  /* Specific color for light theme */\n",
       "  --sklearn-color-text-on-default-background: var(--sg-text-color, var(--theme-code-foreground, var(--jp-content-font-color1, black)));\n",
       "  --sklearn-color-background: var(--sg-background-color, var(--theme-background, var(--jp-layout-color0, white)));\n",
       "  --sklearn-color-border-box: var(--sg-text-color, var(--theme-code-foreground, var(--jp-content-font-color1, black)));\n",
       "  --sklearn-color-icon: #696969;\n",
       "\n",
       "  @media (prefers-color-scheme: dark) {\n",
       "    /* Redefinition of color scheme for dark theme */\n",
       "    --sklearn-color-text-on-default-background: var(--sg-text-color, var(--theme-code-foreground, var(--jp-content-font-color1, white)));\n",
       "    --sklearn-color-background: var(--sg-background-color, var(--theme-background, var(--jp-layout-color0, #111)));\n",
       "    --sklearn-color-border-box: var(--sg-text-color, var(--theme-code-foreground, var(--jp-content-font-color1, white)));\n",
       "    --sklearn-color-icon: #878787;\n",
       "  }\n",
       "}\n",
       "\n",
       "#sk-container-id-1 {\n",
       "  color: var(--sklearn-color-text);\n",
       "}\n",
       "\n",
       "#sk-container-id-1 pre {\n",
       "  padding: 0;\n",
       "}\n",
       "\n",
       "#sk-container-id-1 input.sk-hidden--visually {\n",
       "  border: 0;\n",
       "  clip: rect(1px 1px 1px 1px);\n",
       "  clip: rect(1px, 1px, 1px, 1px);\n",
       "  height: 1px;\n",
       "  margin: -1px;\n",
       "  overflow: hidden;\n",
       "  padding: 0;\n",
       "  position: absolute;\n",
       "  width: 1px;\n",
       "}\n",
       "\n",
       "#sk-container-id-1 div.sk-dashed-wrapped {\n",
       "  border: 1px dashed var(--sklearn-color-line);\n",
       "  margin: 0 0.4em 0.5em 0.4em;\n",
       "  box-sizing: border-box;\n",
       "  padding-bottom: 0.4em;\n",
       "  background-color: var(--sklearn-color-background);\n",
       "}\n",
       "\n",
       "#sk-container-id-1 div.sk-container {\n",
       "  /* jupyter's `normalize.less` sets `[hidden] { display: none; }`\n",
       "     but bootstrap.min.css set `[hidden] { display: none !important; }`\n",
       "     so we also need the `!important` here to be able to override the\n",
       "     default hidden behavior on the sphinx rendered scikit-learn.org.\n",
       "     See: https://github.com/scikit-learn/scikit-learn/issues/21755 */\n",
       "  display: inline-block !important;\n",
       "  position: relative;\n",
       "}\n",
       "\n",
       "#sk-container-id-1 div.sk-text-repr-fallback {\n",
       "  display: none;\n",
       "}\n",
       "\n",
       "div.sk-parallel-item,\n",
       "div.sk-serial,\n",
       "div.sk-item {\n",
       "  /* draw centered vertical line to link estimators */\n",
       "  background-image: linear-gradient(var(--sklearn-color-text-on-default-background), var(--sklearn-color-text-on-default-background));\n",
       "  background-size: 2px 100%;\n",
       "  background-repeat: no-repeat;\n",
       "  background-position: center center;\n",
       "}\n",
       "\n",
       "/* Parallel-specific style estimator block */\n",
       "\n",
       "#sk-container-id-1 div.sk-parallel-item::after {\n",
       "  content: \"\";\n",
       "  width: 100%;\n",
       "  border-bottom: 2px solid var(--sklearn-color-text-on-default-background);\n",
       "  flex-grow: 1;\n",
       "}\n",
       "\n",
       "#sk-container-id-1 div.sk-parallel {\n",
       "  display: flex;\n",
       "  align-items: stretch;\n",
       "  justify-content: center;\n",
       "  background-color: var(--sklearn-color-background);\n",
       "  position: relative;\n",
       "}\n",
       "\n",
       "#sk-container-id-1 div.sk-parallel-item {\n",
       "  display: flex;\n",
       "  flex-direction: column;\n",
       "}\n",
       "\n",
       "#sk-container-id-1 div.sk-parallel-item:first-child::after {\n",
       "  align-self: flex-end;\n",
       "  width: 50%;\n",
       "}\n",
       "\n",
       "#sk-container-id-1 div.sk-parallel-item:last-child::after {\n",
       "  align-self: flex-start;\n",
       "  width: 50%;\n",
       "}\n",
       "\n",
       "#sk-container-id-1 div.sk-parallel-item:only-child::after {\n",
       "  width: 0;\n",
       "}\n",
       "\n",
       "/* Serial-specific style estimator block */\n",
       "\n",
       "#sk-container-id-1 div.sk-serial {\n",
       "  display: flex;\n",
       "  flex-direction: column;\n",
       "  align-items: center;\n",
       "  background-color: var(--sklearn-color-background);\n",
       "  padding-right: 1em;\n",
       "  padding-left: 1em;\n",
       "}\n",
       "\n",
       "\n",
       "/* Toggleable style: style used for estimator/Pipeline/ColumnTransformer box that is\n",
       "clickable and can be expanded/collapsed.\n",
       "- Pipeline and ColumnTransformer use this feature and define the default style\n",
       "- Estimators will overwrite some part of the style using the `sk-estimator` class\n",
       "*/\n",
       "\n",
       "/* Pipeline and ColumnTransformer style (default) */\n",
       "\n",
       "#sk-container-id-1 div.sk-toggleable {\n",
       "  /* Default theme specific background. It is overwritten whether we have a\n",
       "  specific estimator or a Pipeline/ColumnTransformer */\n",
       "  background-color: var(--sklearn-color-background);\n",
       "}\n",
       "\n",
       "/* Toggleable label */\n",
       "#sk-container-id-1 label.sk-toggleable__label {\n",
       "  cursor: pointer;\n",
       "  display: block;\n",
       "  width: 100%;\n",
       "  margin-bottom: 0;\n",
       "  padding: 0.5em;\n",
       "  box-sizing: border-box;\n",
       "  text-align: center;\n",
       "}\n",
       "\n",
       "#sk-container-id-1 label.sk-toggleable__label-arrow:before {\n",
       "  /* Arrow on the left of the label */\n",
       "  content: \"▸\";\n",
       "  float: left;\n",
       "  margin-right: 0.25em;\n",
       "  color: var(--sklearn-color-icon);\n",
       "}\n",
       "\n",
       "#sk-container-id-1 label.sk-toggleable__label-arrow:hover:before {\n",
       "  color: var(--sklearn-color-text);\n",
       "}\n",
       "\n",
       "/* Toggleable content - dropdown */\n",
       "\n",
       "#sk-container-id-1 div.sk-toggleable__content {\n",
       "  max-height: 0;\n",
       "  max-width: 0;\n",
       "  overflow: hidden;\n",
       "  text-align: left;\n",
       "  /* unfitted */\n",
       "  background-color: var(--sklearn-color-unfitted-level-0);\n",
       "}\n",
       "\n",
       "#sk-container-id-1 div.sk-toggleable__content.fitted {\n",
       "  /* fitted */\n",
       "  background-color: var(--sklearn-color-fitted-level-0);\n",
       "}\n",
       "\n",
       "#sk-container-id-1 div.sk-toggleable__content pre {\n",
       "  margin: 0.2em;\n",
       "  border-radius: 0.25em;\n",
       "  color: var(--sklearn-color-text);\n",
       "  /* unfitted */\n",
       "  background-color: var(--sklearn-color-unfitted-level-0);\n",
       "}\n",
       "\n",
       "#sk-container-id-1 div.sk-toggleable__content.fitted pre {\n",
       "  /* unfitted */\n",
       "  background-color: var(--sklearn-color-fitted-level-0);\n",
       "}\n",
       "\n",
       "#sk-container-id-1 input.sk-toggleable__control:checked~div.sk-toggleable__content {\n",
       "  /* Expand drop-down */\n",
       "  max-height: 200px;\n",
       "  max-width: 100%;\n",
       "  overflow: auto;\n",
       "}\n",
       "\n",
       "#sk-container-id-1 input.sk-toggleable__control:checked~label.sk-toggleable__label-arrow:before {\n",
       "  content: \"▾\";\n",
       "}\n",
       "\n",
       "/* Pipeline/ColumnTransformer-specific style */\n",
       "\n",
       "#sk-container-id-1 div.sk-label input.sk-toggleable__control:checked~label.sk-toggleable__label {\n",
       "  color: var(--sklearn-color-text);\n",
       "  background-color: var(--sklearn-color-unfitted-level-2);\n",
       "}\n",
       "\n",
       "#sk-container-id-1 div.sk-label.fitted input.sk-toggleable__control:checked~label.sk-toggleable__label {\n",
       "  background-color: var(--sklearn-color-fitted-level-2);\n",
       "}\n",
       "\n",
       "/* Estimator-specific style */\n",
       "\n",
       "/* Colorize estimator box */\n",
       "#sk-container-id-1 div.sk-estimator input.sk-toggleable__control:checked~label.sk-toggleable__label {\n",
       "  /* unfitted */\n",
       "  background-color: var(--sklearn-color-unfitted-level-2);\n",
       "}\n",
       "\n",
       "#sk-container-id-1 div.sk-estimator.fitted input.sk-toggleable__control:checked~label.sk-toggleable__label {\n",
       "  /* fitted */\n",
       "  background-color: var(--sklearn-color-fitted-level-2);\n",
       "}\n",
       "\n",
       "#sk-container-id-1 div.sk-label label.sk-toggleable__label,\n",
       "#sk-container-id-1 div.sk-label label {\n",
       "  /* The background is the default theme color */\n",
       "  color: var(--sklearn-color-text-on-default-background);\n",
       "}\n",
       "\n",
       "/* On hover, darken the color of the background */\n",
       "#sk-container-id-1 div.sk-label:hover label.sk-toggleable__label {\n",
       "  color: var(--sklearn-color-text);\n",
       "  background-color: var(--sklearn-color-unfitted-level-2);\n",
       "}\n",
       "\n",
       "/* Label box, darken color on hover, fitted */\n",
       "#sk-container-id-1 div.sk-label.fitted:hover label.sk-toggleable__label.fitted {\n",
       "  color: var(--sklearn-color-text);\n",
       "  background-color: var(--sklearn-color-fitted-level-2);\n",
       "}\n",
       "\n",
       "/* Estimator label */\n",
       "\n",
       "#sk-container-id-1 div.sk-label label {\n",
       "  font-family: monospace;\n",
       "  font-weight: bold;\n",
       "  display: inline-block;\n",
       "  line-height: 1.2em;\n",
       "}\n",
       "\n",
       "#sk-container-id-1 div.sk-label-container {\n",
       "  text-align: center;\n",
       "}\n",
       "\n",
       "/* Estimator-specific */\n",
       "#sk-container-id-1 div.sk-estimator {\n",
       "  font-family: monospace;\n",
       "  border: 1px dotted var(--sklearn-color-border-box);\n",
       "  border-radius: 0.25em;\n",
       "  box-sizing: border-box;\n",
       "  margin-bottom: 0.5em;\n",
       "  /* unfitted */\n",
       "  background-color: var(--sklearn-color-unfitted-level-0);\n",
       "}\n",
       "\n",
       "#sk-container-id-1 div.sk-estimator.fitted {\n",
       "  /* fitted */\n",
       "  background-color: var(--sklearn-color-fitted-level-0);\n",
       "}\n",
       "\n",
       "/* on hover */\n",
       "#sk-container-id-1 div.sk-estimator:hover {\n",
       "  /* unfitted */\n",
       "  background-color: var(--sklearn-color-unfitted-level-2);\n",
       "}\n",
       "\n",
       "#sk-container-id-1 div.sk-estimator.fitted:hover {\n",
       "  /* fitted */\n",
       "  background-color: var(--sklearn-color-fitted-level-2);\n",
       "}\n",
       "\n",
       "/* Specification for estimator info (e.g. \"i\" and \"?\") */\n",
       "\n",
       "/* Common style for \"i\" and \"?\" */\n",
       "\n",
       ".sk-estimator-doc-link,\n",
       "a:link.sk-estimator-doc-link,\n",
       "a:visited.sk-estimator-doc-link {\n",
       "  float: right;\n",
       "  font-size: smaller;\n",
       "  line-height: 1em;\n",
       "  font-family: monospace;\n",
       "  background-color: var(--sklearn-color-background);\n",
       "  border-radius: 1em;\n",
       "  height: 1em;\n",
       "  width: 1em;\n",
       "  text-decoration: none !important;\n",
       "  margin-left: 1ex;\n",
       "  /* unfitted */\n",
       "  border: var(--sklearn-color-unfitted-level-1) 1pt solid;\n",
       "  color: var(--sklearn-color-unfitted-level-1);\n",
       "}\n",
       "\n",
       ".sk-estimator-doc-link.fitted,\n",
       "a:link.sk-estimator-doc-link.fitted,\n",
       "a:visited.sk-estimator-doc-link.fitted {\n",
       "  /* fitted */\n",
       "  border: var(--sklearn-color-fitted-level-1) 1pt solid;\n",
       "  color: var(--sklearn-color-fitted-level-1);\n",
       "}\n",
       "\n",
       "/* On hover */\n",
       "div.sk-estimator:hover .sk-estimator-doc-link:hover,\n",
       ".sk-estimator-doc-link:hover,\n",
       "div.sk-label-container:hover .sk-estimator-doc-link:hover,\n",
       ".sk-estimator-doc-link:hover {\n",
       "  /* unfitted */\n",
       "  background-color: var(--sklearn-color-unfitted-level-3);\n",
       "  color: var(--sklearn-color-background);\n",
       "  text-decoration: none;\n",
       "}\n",
       "\n",
       "div.sk-estimator.fitted:hover .sk-estimator-doc-link.fitted:hover,\n",
       ".sk-estimator-doc-link.fitted:hover,\n",
       "div.sk-label-container:hover .sk-estimator-doc-link.fitted:hover,\n",
       ".sk-estimator-doc-link.fitted:hover {\n",
       "  /* fitted */\n",
       "  background-color: var(--sklearn-color-fitted-level-3);\n",
       "  color: var(--sklearn-color-background);\n",
       "  text-decoration: none;\n",
       "}\n",
       "\n",
       "/* Span, style for the box shown on hovering the info icon */\n",
       ".sk-estimator-doc-link span {\n",
       "  display: none;\n",
       "  z-index: 9999;\n",
       "  position: relative;\n",
       "  font-weight: normal;\n",
       "  right: .2ex;\n",
       "  padding: .5ex;\n",
       "  margin: .5ex;\n",
       "  width: min-content;\n",
       "  min-width: 20ex;\n",
       "  max-width: 50ex;\n",
       "  color: var(--sklearn-color-text);\n",
       "  box-shadow: 2pt 2pt 4pt #999;\n",
       "  /* unfitted */\n",
       "  background: var(--sklearn-color-unfitted-level-0);\n",
       "  border: .5pt solid var(--sklearn-color-unfitted-level-3);\n",
       "}\n",
       "\n",
       ".sk-estimator-doc-link.fitted span {\n",
       "  /* fitted */\n",
       "  background: var(--sklearn-color-fitted-level-0);\n",
       "  border: var(--sklearn-color-fitted-level-3);\n",
       "}\n",
       "\n",
       ".sk-estimator-doc-link:hover span {\n",
       "  display: block;\n",
       "}\n",
       "\n",
       "/* \"?\"-specific style due to the `<a>` HTML tag */\n",
       "\n",
       "#sk-container-id-1 a.estimator_doc_link {\n",
       "  float: right;\n",
       "  font-size: 1rem;\n",
       "  line-height: 1em;\n",
       "  font-family: monospace;\n",
       "  background-color: var(--sklearn-color-background);\n",
       "  border-radius: 1rem;\n",
       "  height: 1rem;\n",
       "  width: 1rem;\n",
       "  text-decoration: none;\n",
       "  /* unfitted */\n",
       "  color: var(--sklearn-color-unfitted-level-1);\n",
       "  border: var(--sklearn-color-unfitted-level-1) 1pt solid;\n",
       "}\n",
       "\n",
       "#sk-container-id-1 a.estimator_doc_link.fitted {\n",
       "  /* fitted */\n",
       "  border: var(--sklearn-color-fitted-level-1) 1pt solid;\n",
       "  color: var(--sklearn-color-fitted-level-1);\n",
       "}\n",
       "\n",
       "/* On hover */\n",
       "#sk-container-id-1 a.estimator_doc_link:hover {\n",
       "  /* unfitted */\n",
       "  background-color: var(--sklearn-color-unfitted-level-3);\n",
       "  color: var(--sklearn-color-background);\n",
       "  text-decoration: none;\n",
       "}\n",
       "\n",
       "#sk-container-id-1 a.estimator_doc_link.fitted:hover {\n",
       "  /* fitted */\n",
       "  background-color: var(--sklearn-color-fitted-level-3);\n",
       "}\n",
       "</style><div id=\"sk-container-id-1\" class=\"sk-top-container\"><div class=\"sk-text-repr-fallback\"><pre>LGBMClassifier(colsample_bytree=0.5002287019819426, importance_type=&#x27;gain&#x27;,\n",
       "               is_unbalance=False, learning_rate=0.05, min_child_samples=1857,\n",
       "               n_estimators=540, num_leaves=27, objective=&#x27;binary&#x27;,\n",
       "               random_state=42, reg_alpha=0.019998333098629646,\n",
       "               reg_lambda=2.6663467952723607e-06, subsample_freq=1,\n",
       "               verbosity=-1)</pre><b>In a Jupyter environment, please rerun this cell to show the HTML representation or trust the notebook. <br />On GitHub, the HTML representation is unable to render, please try loading this page with nbviewer.org.</b></div><div class=\"sk-container\" hidden><div class=\"sk-item\"><div class=\"sk-estimator fitted sk-toggleable\"><input class=\"sk-toggleable__control sk-hidden--visually\" id=\"sk-estimator-id-1\" type=\"checkbox\" checked><label for=\"sk-estimator-id-1\" class=\"sk-toggleable__label fitted sk-toggleable__label-arrow fitted\">&nbsp;LGBMClassifier<span class=\"sk-estimator-doc-link fitted\">i<span>Fitted</span></span></label><div class=\"sk-toggleable__content fitted\"><pre>LGBMClassifier(colsample_bytree=0.5002287019819426, importance_type=&#x27;gain&#x27;,\n",
       "               is_unbalance=False, learning_rate=0.05, min_child_samples=1857,\n",
       "               n_estimators=540, num_leaves=27, objective=&#x27;binary&#x27;,\n",
       "               random_state=42, reg_alpha=0.019998333098629646,\n",
       "               reg_lambda=2.6663467952723607e-06, subsample_freq=1,\n",
       "               verbosity=-1)</pre></div> </div></div></div></div>"
      ],
      "text/plain": [
       "LGBMClassifier(colsample_bytree=0.5002287019819426, importance_type='gain',\n",
       "               is_unbalance=False, learning_rate=0.05, min_child_samples=1857,\n",
       "               n_estimators=540, num_leaves=27, objective='binary',\n",
       "               random_state=42, reg_alpha=0.019998333098629646,\n",
       "               reg_lambda=2.6663467952723607e-06, subsample_freq=1,\n",
       "               verbosity=-1)"
      ]
     },
     "execution_count": 5,
     "metadata": {},
     "output_type": "execute_result"
    }
   ],
   "source": [
    "model.fit(X_train, y_train, eval_metric='auc', eval_set=[(X_oos, y_oos), (X_train, y_train)], eval_names=['valid', 'train'])"
   ]
  },
  {
   "cell_type": "code",
   "execution_count": 6,
   "id": "ad5bb4c0",
   "metadata": {},
   "outputs": [
    {
     "data": {
      "image/png": "[encoded data removed]",
      "text/plain": [
       "<Figure size 800x600 with 1 Axes>"
      ]
     },
     "metadata": {},
     "output_type": "display_data"
    }
   ],
   "source": [
    "plt.figure(figsize=(8, 6))\n",
    "\n",
    "train_path = model.evals_result_['train']['auc']\n",
    "valid_path = model.evals_result_['valid']['auc']\n",
    "iterations = list(range(1, len(train_path) + 1))\n",
    "\n",
    "plt.plot(iterations, train_path, label='train auc')\n",
    "plt.plot(iterations, valid_path, label='valid auc')\n",
    "plt.axvline(250, color='gray', ls='--')\n",
    "\n",
    "plt.title('Learning Curves')\n",
    "plt.xlabel('Number of Estimators')\n",
    "plt.ylabel('ROC-AUC')\n",
    "plt.legend()\n",
    "\n",
    "plt.tight_layout()\n",
    "plt.show()"
   ]
  },
  {
   "cell_type": "code",
   "execution_count": 27,
   "id": "a10106f5",
   "metadata": {},
   "outputs": [],
   "source": [
    "param = 'subsample'\n",
    "param_range = [0.5, 0.75, 0.8, 0.85, 0.9, 0.95, 1]\n",
    "\n",
    "result = validation_curve(model, X_train, y_train, scoring='roc_auc', cv=cv, param_name=param, param_range=param_range, n_jobs=-1)"
   ]
  },
  {
   "cell_type": "code",
   "execution_count": 33,
   "id": "27402c4f",
   "metadata": {},
   "outputs": [
    {
     "data": {
      "image/png": "[encoded data removed]",
      "text/plain": [
       "<Figure size 1000x600 with 1 Axes>"
      ]
     },
     "metadata": {},
     "output_type": "display_data"
    }
   ],
   "source": [
    "plt.figure(figsize=(10, 6))\n",
    "\n",
    "plt.plot(param_range, np.mean(result[0], axis=1), label='train auc')\n",
    "plt.plot(param_range, np.mean(result[1], axis=1), label='valid auc')\n",
    "\n",
    "plt.legend()\n",
    "plt.tight_layout()\n",
    "plt.show()"
   ]
  }
 ],
 "metadata": {
  "kernelspec": {
   "display_name": "ml_exp_env",
   "language": "python",
   "name": "python3"
  },
  "language_info": {
   "codemirror_mode": {
    "name": "ipython",
    "version": 3
   },
   "file_extension": ".py",
   "mimetype": "text/x-python",
   "name": "python",
   "nbconvert_exporter": "python",
   "pygments_lexer": "ipython3",
   "version": "3.11.11"
  }
 },
 "nbformat": 4,
 "nbformat_minor": 5
}
